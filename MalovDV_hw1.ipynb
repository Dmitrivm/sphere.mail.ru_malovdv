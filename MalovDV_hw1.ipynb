{
 "cells": [
  {
   "cell_type": "markdown",
   "metadata": {},
   "source": [
    "**Общая информация**\n",
    "\n",
    "**Срок сдачи:** 20 марта 2019, 06:00 <br\\>\n",
    "**Штраф за опоздание:** -1 балл после 06:00 20 марта, -2 балла после 06:00 27 марта, -3 балла после 06:00 3 апреля\n",
    "-4 балла после 06:00 10 апреля\n",
    "\n",
    "При отправлении ДЗ указывайте фамилию в названии файла\n",
    "Присылать ДЗ необходимо в виде ссылки на свой github репозиторий в slack @alkhamush\n",
    "\n",
    "Необходимо в slack скинуть ссылку в личный чат @alkhamush\n",
    "Пример ссылки:\n",
    "https://github.com/stroykova/spheremailru/stroykova_hw1.ipynb \n",
    "\n",
    "\n",
    "Используйте данный Ipython Notebook при оформлении домашнего задания."
   ]
  },
  {
   "cell_type": "markdown",
   "metadata": {},
   "source": [
    "##### Задание 1 (2 баллов)\n",
    "Реализовать KNN в классе MyKNeighborsClassifier (обязательное условие: точность не ниже sklearn реализации)\n",
    "Разберитесь самостоятельно, какая мера расстояния используется в KNeighborsClassifier дефолтно и реализуйте свой алгоритм именно с этой мерой. Самостоятельно разберитесь, как считается score из KNeighborsClassifier и реализуйте аналог в своём классе. Score не должен уступать значению KNN из sklearn\n",
    "\n",
    "###### Задание 2 (2 балла)\n",
    "Добиться скорости работы на fit,  predict и predict_proba сравнимой со sklearn для iris и mnist\n",
    "Для этого используем numpy\n",
    "\n",
    "###### Задание 3 (2 балла)\n",
    "Для iris найдите такой параметр n_neighbors, при котором выдаётся наилучший score. Нарисуйте график зависимости score от n_neighbors\n",
    "\n",
    "###### Задание 4 (3 балла)\n",
    "Добавить algorithm='kd_tree' в реализацию KNN (использовать KDTree из sklearn.neighbors). Добиться скорости работы на fit,  predict и predict_proba сравнимой со sklearn для iris и mnist\n",
    "Для этого используем numpy. Score не должен уступать значению KNN из sklearn\n",
    "\n",
    "###### Задание 5 (1 балла)\n",
    "Описать для чего нужны следующие библиотеки/классы/функции (список будет ниже)\n",
    "\n",
    "**Штрафные баллы:**\n",
    "\n",
    "1. Невыполнение PEP8 -0.5 баллов\n",
    "2. Отсутствие фамилии в имени скрипта (скрипт должен называться по аналогии со stroykova_hw1.ipynb) -0.5 баллов\n",
    "3. Все строчки должны быть выполнены. Нужно, чтобы output команды можно было увидеть уже в git'е. В противном случае -0.5 баллов\n",
    "4. При оформлении ДЗ нужно пользоваться данным файлом в качестве шаблона. Не нужно удалять и видоизменять структуру кода и текст. В противном случае -0.5 баллов\n"
   ]
  },
  {
   "cell_type": "code",
   "execution_count": 1,
   "metadata": {},
   "outputs": [],
   "source": [
    "import numpy as np\n",
    "import matplotlib.pyplot as plt\n",
    "\n",
    "import seaborn as sns\n",
    "from sklearn import datasets\n",
    "from sklearn.base import ClassifierMixin\n",
    "from sklearn.datasets import fetch_mldata\n",
    "from sklearn.neighbors.base import NeighborsBase, KNeighborsMixin, SupervisedIntegerMixin \n",
    "from sklearn.model_selection import train_test_split\n",
    "from sklearn.neighbors import KNeighborsClassifier\n",
    "%load_ext pycodestyle_magic"
   ]
  },
  {
   "cell_type": "code",
   "execution_count": 2,
   "metadata": {},
   "outputs": [],
   "source": [
    "# %%pycodestyle\n",
    "import scipy as sp\n",
    "from sklearn.neighbors import KDTree as KDTree_Sklearn\n",
    "\n",
    "\n",
    "class MyKNeighborsClassifier(NeighborsBase, KNeighborsMixin,\n",
    "                             SupervisedIntegerMixin, ClassifierMixin):\n",
    "\n",
    "    _algo = 'brute'\n",
    "    _data = 0\n",
    "    _target = 0\n",
    "    _n_neighbors = 0\n",
    "    _result = 0\n",
    "    _full_results = 0\n",
    "    _classes = 0\n",
    "    _proba = 0\n",
    "    _tree = 0\n",
    "\n",
    "    def __init__(self, n_neighbors, algorithm='brute'):\n",
    "        self._n_neighbors = n_neighbors\n",
    "        self._algo = algorithm\n",
    "\n",
    "    def fit(self, X, y):\n",
    "        self._data = X\n",
    "        self._target = y\n",
    "        self._classes = np.unique(y)\n",
    "        if (self._algo != 'brute'):\n",
    "            self._tree = KDTree_Sklearn(self._data)\n",
    "\n",
    "    def predict(self, X):\n",
    "        _n = self._n_neighbors\n",
    "\n",
    "        if self._algo == 'brute':\n",
    "            distances = sp.spatial.distance.cdist(X, self._data)\n",
    "            ressorted = np.argsort(distances, axis=1)\n",
    "            arr = self._target[ressorted][:, :_n]\n",
    "        else:\n",
    "            distances, ressorted = self._tree.query(X, k=_n)\n",
    "            arr = self._target[ressorted][:, :_n + 1]\n",
    "\n",
    "        # u, indices = np.unique(arr, return_inverse=True, axis=0)\n",
    "\n",
    "        ax = 1\n",
    "        u, indices = np.unique(arr, return_inverse=True)\n",
    "        indreshape = indices.reshape(arr.shape)\n",
    "        self._result = u[np.argmax(np.apply_along_axis(\n",
    "            np.bincount, ax, indreshape, None, np.max(indices) + 1), axis=ax)]\n",
    "\n",
    "        _classes = self._classes\n",
    "        _len = len(_classes)\n",
    "\n",
    "        arrext = np.vstack([np.expand_dims(arr, axis=0)] * _len)\n",
    "        cmparr = np.asarray(_classes).reshape([_len, 1, 1])\n",
    "        self._proba = (np.sum(arrext == cmparr, axis=2)/arr.shape[1]).T\n",
    "\n",
    "#         classes = self._classes\n",
    "#         output = []\n",
    "#         for c in classes:\n",
    "#             # print(c)\n",
    "#             output.append(np.sum(arr == c, axis=1)/arr.shape[1])\n",
    "#         self._proba = np.vstack(output).T\n",
    "\n",
    "        return self._result\n",
    "\n",
    "    def predict_proba(self, X):\n",
    "        _pred = self.predict(X)\n",
    "        return self._proba\n",
    "\n",
    "    def score(self, X, y):\n",
    "        _pred = self.predict(X)\n",
    "        cntarr = np.zeros(_pred.shape)\n",
    "        cntarr[_pred == y] = 1\n",
    "        return np.sum(cntarr)/len(cntarr)"
   ]
  },
  {
   "cell_type": "markdown",
   "metadata": {},
   "source": [
    "**IRIS**"
   ]
  },
  {
   "cell_type": "code",
   "execution_count": 3,
   "metadata": {},
   "outputs": [],
   "source": [
    "iris = datasets.load_iris()"
   ]
  },
  {
   "cell_type": "code",
   "execution_count": 4,
   "metadata": {},
   "outputs": [],
   "source": [
    "X_train, X_test, y_train, y_test = train_test_split(iris.data,\n",
    "                                                    iris.target,\n",
    "                                                    test_size=0.1,\n",
    "                                                    stratify=iris.target)"
   ]
  },
  {
   "cell_type": "code",
   "execution_count": 5,
   "metadata": {},
   "outputs": [],
   "source": [
    "clf = KNeighborsClassifier(n_neighbors=3, algorithm='brute')\n",
    "my_clf = MyKNeighborsClassifier(n_neighbors=3, algorithm='brute')"
   ]
  },
  {
   "cell_type": "code",
   "execution_count": 6,
   "metadata": {},
   "outputs": [
    {
     "name": "stdout",
     "output_type": "stream",
     "text": [
      "CPU times: user 522 µs, sys: 85 µs, total: 607 µs\n",
      "Wall time: 552 µs\n"
     ]
    },
    {
     "data": {
      "text/plain": [
       "KNeighborsClassifier(algorithm='brute', leaf_size=30, metric='minkowski',\n",
       "           metric_params=None, n_jobs=None, n_neighbors=3, p=2,\n",
       "           weights='uniform')"
      ]
     },
     "execution_count": 6,
     "metadata": {},
     "output_type": "execute_result"
    }
   ],
   "source": [
    "%time clf.fit(X_train, y_train)"
   ]
  },
  {
   "cell_type": "code",
   "execution_count": 7,
   "metadata": {},
   "outputs": [
    {
     "name": "stdout",
     "output_type": "stream",
     "text": [
      "CPU times: user 40 µs, sys: 11 µs, total: 51 µs\n",
      "Wall time: 47.9 µs\n"
     ]
    }
   ],
   "source": [
    "%time my_clf.fit(X_train, y_train)"
   ]
  },
  {
   "cell_type": "code",
   "execution_count": 8,
   "metadata": {},
   "outputs": [
    {
     "name": "stdout",
     "output_type": "stream",
     "text": [
      "CPU times: user 2.01 ms, sys: 996 µs, total: 3.01 ms\n",
      "Wall time: 1.96 ms\n"
     ]
    },
    {
     "data": {
      "text/plain": [
       "array([0, 1, 0, 0, 1, 0, 2, 1, 1, 2, 0, 2, 2, 1, 2])"
      ]
     },
     "execution_count": 8,
     "metadata": {},
     "output_type": "execute_result"
    }
   ],
   "source": [
    "%time clf.predict(X_test)"
   ]
  },
  {
   "cell_type": "code",
   "execution_count": 9,
   "metadata": {},
   "outputs": [
    {
     "name": "stdout",
     "output_type": "stream",
     "text": [
      "CPU times: user 805 µs, sys: 739 µs, total: 1.54 ms\n",
      "Wall time: 986 µs\n"
     ]
    },
    {
     "data": {
      "text/plain": [
       "array([0, 1, 0, 0, 1, 0, 2, 1, 1, 2, 0, 2, 2, 1, 2])"
      ]
     },
     "execution_count": 9,
     "metadata": {},
     "output_type": "execute_result"
    }
   ],
   "source": [
    "%time my_clf.predict(X_test)"
   ]
  },
  {
   "cell_type": "code",
   "execution_count": 10,
   "metadata": {},
   "outputs": [
    {
     "name": "stdout",
     "output_type": "stream",
     "text": [
      "CPU times: user 1.05 ms, sys: 573 µs, total: 1.62 ms\n",
      "Wall time: 1.17 ms\n"
     ]
    },
    {
     "data": {
      "text/plain": [
       "array([[1.        , 0.        , 0.        ],\n",
       "       [0.        , 1.        , 0.        ],\n",
       "       [1.        , 0.        , 0.        ],\n",
       "       [1.        , 0.        , 0.        ],\n",
       "       [0.        , 1.        , 0.        ],\n",
       "       [1.        , 0.        , 0.        ],\n",
       "       [0.        , 0.        , 1.        ],\n",
       "       [0.        , 1.        , 0.        ],\n",
       "       [0.        , 1.        , 0.        ],\n",
       "       [0.        , 0.33333333, 0.66666667],\n",
       "       [1.        , 0.        , 0.        ],\n",
       "       [0.        , 0.        , 1.        ],\n",
       "       [0.        , 0.        , 1.        ],\n",
       "       [0.        , 1.        , 0.        ],\n",
       "       [0.        , 0.        , 1.        ]])"
      ]
     },
     "execution_count": 10,
     "metadata": {},
     "output_type": "execute_result"
    }
   ],
   "source": [
    "%time clf.predict_proba(X_test)"
   ]
  },
  {
   "cell_type": "code",
   "execution_count": 11,
   "metadata": {},
   "outputs": [
    {
     "name": "stdout",
     "output_type": "stream",
     "text": [
      "CPU times: user 951 µs, sys: 657 µs, total: 1.61 ms\n",
      "Wall time: 1.01 ms\n"
     ]
    },
    {
     "data": {
      "text/plain": [
       "array([[1.        , 0.        , 0.        ],\n",
       "       [0.        , 1.        , 0.        ],\n",
       "       [1.        , 0.        , 0.        ],\n",
       "       [1.        , 0.        , 0.        ],\n",
       "       [0.        , 1.        , 0.        ],\n",
       "       [1.        , 0.        , 0.        ],\n",
       "       [0.        , 0.        , 1.        ],\n",
       "       [0.        , 1.        , 0.        ],\n",
       "       [0.        , 1.        , 0.        ],\n",
       "       [0.        , 0.33333333, 0.66666667],\n",
       "       [1.        , 0.        , 0.        ],\n",
       "       [0.        , 0.        , 1.        ],\n",
       "       [0.        , 0.        , 1.        ],\n",
       "       [0.        , 1.        , 0.        ],\n",
       "       [0.        , 0.        , 1.        ]])"
      ]
     },
     "execution_count": 11,
     "metadata": {},
     "output_type": "execute_result"
    }
   ],
   "source": [
    "%time my_clf.predict_proba(X_test)"
   ]
  },
  {
   "cell_type": "code",
   "execution_count": 12,
   "metadata": {},
   "outputs": [
    {
     "data": {
      "text/plain": [
       "1.0"
      ]
     },
     "execution_count": 12,
     "metadata": {},
     "output_type": "execute_result"
    }
   ],
   "source": [
    "clf.score(X_test, y_test)"
   ]
  },
  {
   "cell_type": "code",
   "execution_count": 13,
   "metadata": {},
   "outputs": [
    {
     "data": {
      "text/plain": [
       "1.0"
      ]
     },
     "execution_count": 13,
     "metadata": {},
     "output_type": "execute_result"
    }
   ],
   "source": [
    "my_clf.score(X_test, y_test)"
   ]
  },
  {
   "cell_type": "markdown",
   "metadata": {},
   "source": [
    "Задание 3"
   ]
  },
  {
   "cell_type": "code",
   "execution_count": 14,
   "metadata": {},
   "outputs": [],
   "source": [
    "%matplotlib inline"
   ]
  },
  {
   "cell_type": "code",
   "execution_count": 46,
   "metadata": {},
   "outputs": [],
   "source": [
    "nmax = 15\n",
    "iternum = 50\n",
    "scores = []\n",
    "meanscores = {}\n",
    "\n",
    "for n in range(2, nmax + 1):\n",
    "    for it in range(iternum + 1):\n",
    "        X_train, X_test, y_train, y_test = train_test_split(iris.data,\n",
    "                                                            iris.target,\n",
    "                                                            test_size=0.1,\n",
    "                                                            stratify=iris.target)\n",
    "\n",
    "        my_clf = MyKNeighborsClassifier(n_neighbors=n, algorithm='brute')\n",
    "        clf.fit(X_train, y_train)\n",
    "        scores.append(clf.score(X_test, y_test))\n",
    "    meanscores[n] = np.mean(scores)"
   ]
  },
  {
   "cell_type": "code",
   "execution_count": 48,
   "metadata": {},
   "outputs": [],
   "source": [
    "ns = []\n",
    "grscores = []\n",
    "\n",
    "for k,v in meanscores.items():\n",
    "    ns.append(k)\n",
    "    grscores.append(v)"
   ]
  },
  {
   "cell_type": "code",
   "execution_count": 69,
   "metadata": {},
   "outputs": [
    {
     "name": "stdout",
     "output_type": "stream",
     "text": [
      "Наилучший score получился при n = 6\n"
     ]
    }
   ],
   "source": [
    "print(\"Наилучший score получился при n =\", ns[np.argmax(grscores)])"
   ]
  },
  {
   "cell_type": "code",
   "execution_count": 70,
   "metadata": {},
   "outputs": [
    {
     "data": {
      "text/plain": [
       "<matplotlib.legend.Legend at 0x11dce90b8>"
      ]
     },
     "execution_count": 70,
     "metadata": {},
     "output_type": "execute_result"
    },
    {
     "data": {
      "image/png": "[encoded data removed]",
      "text/plain": [
       "<Figure size 1080x504 with 1 Axes>"
      ]
     },
     "metadata": {},
     "output_type": "display_data"
    }
   ],
   "source": [
    "plt.figure(figsize=(15, 7))\n",
    "plt.plot(ns, grscores)\n",
    "plt.grid()\n",
    "plt.scatter(ns[np.argmax(grscores)], grscores[np.argmax(grscores)], color='red')\n",
    "plt.legend(['График зависимости скора от количества соседей'])"
   ]
  },
  {
   "cell_type": "markdown",
   "metadata": {},
   "source": [
    "**MNIST**"
   ]
  },
  {
   "cell_type": "code",
   "execution_count": 18,
   "metadata": {},
   "outputs": [],
   "source": [
    "# mnist = fetch_mldata('MNIST original')"
   ]
  },
  {
   "cell_type": "code",
   "execution_count": 19,
   "metadata": {},
   "outputs": [],
   "source": [
    "from scipy.io import loadmat\n",
    "\n",
    "mnist_path = \"./mnist-original.mat\"\n",
    "mnist_raw = loadmat(mnist_path)\n",
    "mnist = {\n",
    "    \"data\": mnist_raw[\"data\"].T,\n",
    "    \"target\": mnist_raw[\"label\"][0],\n",
    "    \"COL_NAMES\": [\"label\", \"data\"],\n",
    "    \"DESCR\": \"mldata.org dataset: mnist-original\",\n",
    "}"
   ]
  },
  {
   "cell_type": "code",
   "execution_count": 20,
   "metadata": {},
   "outputs": [],
   "source": [
    "X_train, X_test, y_train, y_test = train_test_split(mnist['data'],\n",
    "                                                    mnist['target'],\n",
    "                                                    test_size=0.01,\n",
    "                                                    stratify=mnist['target'])"
   ]
  },
  {
   "cell_type": "code",
   "execution_count": 21,
   "metadata": {},
   "outputs": [],
   "source": [
    "# X_train, X_test, y_train, y_test = train_test_split(mnist.data, mnist.target, test_size=0.01, stratify=mnist.target)"
   ]
  },
  {
   "cell_type": "code",
   "execution_count": 22,
   "metadata": {},
   "outputs": [],
   "source": [
    "clf = KNeighborsClassifier(n_neighbors=2, algorithm='brute')\n",
    "my_clf = MyKNeighborsClassifier(n_neighbors=2, algorithm='brute')"
   ]
  },
  {
   "cell_type": "code",
   "execution_count": 23,
   "metadata": {},
   "outputs": [
    {
     "name": "stdout",
     "output_type": "stream",
     "text": [
      "CPU times: user 6.46 ms, sys: 1.71 ms, total: 8.17 ms\n",
      "Wall time: 7.26 ms\n"
     ]
    },
    {
     "data": {
      "text/plain": [
       "KNeighborsClassifier(algorithm='brute', leaf_size=30, metric='minkowski',\n",
       "           metric_params=None, n_jobs=None, n_neighbors=2, p=2,\n",
       "           weights='uniform')"
      ]
     },
     "execution_count": 23,
     "metadata": {},
     "output_type": "execute_result"
    }
   ],
   "source": [
    "%time clf.fit(X_train, y_train)"
   ]
  },
  {
   "cell_type": "code",
   "execution_count": 24,
   "metadata": {},
   "outputs": [
    {
     "name": "stdout",
     "output_type": "stream",
     "text": [
      "CPU times: user 2.71 ms, sys: 623 µs, total: 3.33 ms\n",
      "Wall time: 2.39 ms\n"
     ]
    }
   ],
   "source": [
    "%time my_clf.fit(X_train, y_train)"
   ]
  },
  {
   "cell_type": "code",
   "execution_count": 25,
   "metadata": {},
   "outputs": [
    {
     "name": "stdout",
     "output_type": "stream",
     "text": [
      "CPU times: user 3.35 s, sys: 398 ms, total: 3.75 s\n",
      "Wall time: 1.49 s\n"
     ]
    },
    {
     "data": {
      "text/plain": [
       "array([4., 2., 5., 6., 6., 8., 3., 6., 8., 9., 9., 4., 1., 3., 2., 7., 3.,\n",
       "       1., 7., 2., 0., 2., 8., 9., 5., 9., 4., 0., 6., 0., 5., 4., 9., 2.,\n",
       "       3., 6., 9., 6., 1., 0., 1., 9., 1., 3., 1., 5., 9., 9., 8., 2., 4.,\n",
       "       7., 3., 1., 8., 9., 7., 7., 0., 6., 5., 3., 8., 9., 2., 6., 2., 1.,\n",
       "       4., 7., 9., 6., 2., 2., 5., 1., 0., 5., 6., 2., 3., 0., 6., 1., 7.,\n",
       "       3., 7., 4., 1., 8., 6., 8., 1., 5., 7., 5., 6., 9., 8., 0., 0., 0.,\n",
       "       7., 7., 7., 8., 0., 3., 6., 9., 4., 7., 5., 3., 6., 9., 3., 3., 0.,\n",
       "       1., 9., 9., 4., 7., 6., 1., 0., 2., 0., 0., 9., 1., 5., 3., 5., 7.,\n",
       "       3., 4., 1., 7., 1., 8., 9., 2., 8., 3., 3., 8., 6., 9., 3., 5., 4.,\n",
       "       8., 9., 4., 9., 3., 0., 1., 0., 4., 7., 2., 1., 9., 0., 2., 2., 9.,\n",
       "       2., 2., 5., 8., 6., 7., 0., 4., 1., 1., 8., 6., 3., 3., 1., 8., 3.,\n",
       "       4., 7., 3., 7., 6., 4., 8., 3., 4., 1., 2., 9., 8., 3., 3., 2., 3.,\n",
       "       2., 0., 2., 3., 8., 2., 9., 0., 3., 5., 7., 0., 8., 6., 0., 5., 1.,\n",
       "       8., 7., 1., 1., 9., 5., 7., 7., 6., 6., 5., 2., 9., 2., 8., 7., 4.,\n",
       "       5., 6., 2., 4., 3., 0., 1., 9., 1., 1., 6., 4., 0., 2., 0., 7., 8.,\n",
       "       7., 4., 7., 4., 4., 1., 3., 1., 7., 0., 7., 6., 9., 2., 7., 9., 9.,\n",
       "       4., 9., 1., 7., 7., 1., 5., 7., 4., 1., 0., 6., 7., 7., 6., 1., 7.,\n",
       "       0., 8., 1., 4., 1., 3., 8., 3., 9., 5., 2., 5., 3., 7., 2., 3., 5.,\n",
       "       9., 0., 3., 3., 0., 4., 5., 0., 2., 2., 6., 7., 5., 1., 2., 2., 9.,\n",
       "       3., 1., 9., 7., 6., 3., 6., 9., 0., 1., 5., 2., 7., 0., 9., 0., 8.,\n",
       "       3., 5., 5., 7., 3., 4., 5., 1., 5., 6., 5., 6., 1., 8., 6., 3., 3.,\n",
       "       3., 9., 9., 0., 7., 8., 9., 6., 4., 9., 6., 7., 7., 4., 9., 2., 9.,\n",
       "       2., 3., 6., 5., 9., 4., 1., 6., 7., 7., 2., 8., 2., 0., 2., 8., 1.,\n",
       "       1., 7., 5., 9., 7., 6., 5., 0., 9., 1., 2., 6., 1., 6., 1., 4., 6.,\n",
       "       4., 6., 3., 1., 3., 3., 0., 3., 5., 4., 3., 0., 1., 4., 0., 4., 0.,\n",
       "       5., 8., 3., 5., 9., 1., 6., 8., 2., 1., 2., 2., 5., 9., 1., 1., 1.,\n",
       "       2., 0., 0., 2., 2., 7., 1., 2., 1., 3., 8., 4., 4., 7., 4., 2., 2.,\n",
       "       8., 8., 1., 8., 0., 8., 6., 6., 7., 8., 0., 8., 1., 4., 0., 9., 4.,\n",
       "       8., 4., 6., 4., 3., 7., 7., 6., 4., 6., 3., 5., 9., 0., 9., 5., 2.,\n",
       "       5., 0., 9., 3., 2., 1., 8., 0., 6., 2., 4., 3., 6., 5., 0., 3., 6.,\n",
       "       3., 4., 3., 5., 8., 6., 7., 6., 6., 3., 6., 5., 2., 1., 1., 6., 8.,\n",
       "       0., 1., 1., 8., 5., 3., 7., 2., 7., 2., 3., 1., 4., 0., 4., 0., 1.,\n",
       "       4., 4., 1., 2., 3., 8., 3., 0., 2., 0., 8., 9., 7., 9., 8., 2., 4.,\n",
       "       3., 7., 9., 4., 2., 5., 9., 2., 7., 4., 8., 8., 6., 9., 0., 7., 1.,\n",
       "       3., 6., 4., 7., 9., 5., 6., 2., 5., 6., 5., 2., 6., 2., 0., 9., 3.,\n",
       "       0., 1., 1., 8., 0., 0., 0., 2., 0., 1., 6., 3., 4., 1., 5., 0., 2.,\n",
       "       3., 4., 4., 7., 0., 0., 8., 4., 9., 8., 4., 0., 5., 1., 1., 1., 8.,\n",
       "       4., 6., 2., 4., 1., 0., 8., 5., 3., 6., 7., 1., 4., 7., 7., 7., 5.,\n",
       "       3., 7., 5., 2., 7., 9., 5., 8., 0., 0., 8., 7., 3., 4., 7., 2., 1.,\n",
       "       1., 9., 4., 4., 5., 0., 8., 1., 0., 7., 3., 0., 1., 7., 9., 9., 6.,\n",
       "       5., 8., 8., 5., 6., 3., 6., 9., 0., 8., 6., 8., 3., 9., 9., 7., 4.,\n",
       "       1., 7., 0.])"
      ]
     },
     "execution_count": 25,
     "metadata": {},
     "output_type": "execute_result"
    }
   ],
   "source": [
    "%time clf.predict(X_test)"
   ]
  },
  {
   "cell_type": "code",
   "execution_count": 26,
   "metadata": {},
   "outputs": [
    {
     "name": "stdout",
     "output_type": "stream",
     "text": [
      "CPU times: user 37.7 s, sys: 710 ms, total: 38.4 s\n",
      "Wall time: 38.4 s\n"
     ]
    },
    {
     "data": {
      "text/plain": [
       "array([4., 2., 5., 6., 6., 8., 3., 6., 8., 9., 9., 4., 1., 3., 2., 7., 3.,\n",
       "       1., 7., 2., 0., 2., 8., 9., 5., 9., 4., 0., 6., 0., 5., 4., 9., 2.,\n",
       "       3., 6., 9., 6., 1., 0., 1., 9., 1., 3., 1., 5., 9., 9., 8., 2., 4.,\n",
       "       7., 3., 1., 8., 9., 7., 7., 0., 6., 5., 3., 8., 9., 2., 6., 2., 1.,\n",
       "       4., 7., 9., 6., 2., 2., 5., 1., 0., 5., 6., 2., 3., 0., 6., 1., 7.,\n",
       "       3., 7., 4., 1., 8., 6., 8., 1., 5., 7., 5., 6., 9., 8., 0., 0., 0.,\n",
       "       7., 7., 7., 8., 0., 3., 6., 9., 4., 7., 5., 3., 6., 9., 3., 3., 0.,\n",
       "       1., 9., 9., 4., 7., 6., 1., 0., 2., 0., 0., 9., 1., 5., 3., 5., 7.,\n",
       "       3., 4., 1., 7., 1., 8., 9., 2., 8., 3., 3., 8., 6., 9., 3., 5., 4.,\n",
       "       8., 9., 4., 9., 3., 0., 1., 0., 4., 7., 2., 1., 9., 0., 2., 2., 9.,\n",
       "       2., 2., 5., 8., 6., 7., 0., 4., 1., 1., 8., 6., 3., 3., 1., 8., 3.,\n",
       "       4., 7., 3., 7., 6., 4., 8., 3., 4., 1., 2., 9., 8., 3., 3., 2., 3.,\n",
       "       2., 0., 2., 3., 8., 2., 9., 0., 3., 5., 7., 0., 8., 6., 0., 5., 1.,\n",
       "       8., 7., 1., 1., 9., 5., 7., 7., 6., 6., 5., 2., 9., 2., 8., 7., 4.,\n",
       "       5., 6., 2., 4., 3., 0., 1., 9., 1., 1., 6., 4., 0., 2., 0., 7., 8.,\n",
       "       7., 4., 7., 4., 4., 1., 3., 1., 7., 0., 7., 6., 9., 2., 7., 9., 9.,\n",
       "       4., 9., 1., 7., 7., 1., 5., 7., 4., 1., 0., 6., 7., 7., 6., 1., 7.,\n",
       "       0., 8., 1., 4., 1., 3., 8., 3., 9., 5., 2., 5., 3., 7., 2., 3., 5.,\n",
       "       9., 0., 3., 3., 0., 4., 5., 0., 2., 2., 6., 7., 5., 1., 2., 2., 9.,\n",
       "       3., 1., 9., 7., 6., 3., 6., 9., 0., 1., 5., 2., 7., 0., 9., 0., 8.,\n",
       "       3., 5., 5., 7., 3., 4., 5., 1., 5., 6., 5., 6., 1., 8., 6., 3., 3.,\n",
       "       3., 9., 9., 0., 7., 8., 9., 6., 4., 9., 6., 7., 7., 4., 9., 2., 9.,\n",
       "       2., 3., 6., 5., 9., 4., 1., 6., 7., 7., 2., 8., 2., 0., 2., 8., 1.,\n",
       "       1., 7., 5., 9., 7., 6., 5., 0., 9., 1., 2., 6., 1., 6., 1., 4., 6.,\n",
       "       4., 6., 3., 1., 3., 3., 0., 3., 5., 4., 3., 0., 1., 4., 0., 4., 0.,\n",
       "       5., 8., 3., 5., 9., 1., 6., 8., 2., 1., 2., 2., 5., 9., 1., 1., 1.,\n",
       "       2., 0., 0., 2., 2., 7., 1., 2., 1., 3., 8., 4., 4., 7., 4., 2., 2.,\n",
       "       8., 8., 1., 8., 0., 8., 6., 6., 7., 8., 0., 8., 1., 4., 0., 9., 4.,\n",
       "       8., 4., 6., 4., 3., 7., 7., 6., 4., 6., 3., 5., 9., 0., 9., 5., 2.,\n",
       "       5., 0., 9., 3., 2., 1., 8., 0., 6., 2., 4., 3., 6., 5., 0., 3., 6.,\n",
       "       3., 4., 3., 5., 8., 6., 7., 6., 6., 3., 6., 5., 2., 1., 1., 6., 8.,\n",
       "       0., 1., 1., 8., 5., 3., 7., 2., 7., 2., 3., 1., 4., 0., 4., 0., 1.,\n",
       "       4., 4., 1., 2., 3., 8., 3., 0., 2., 0., 8., 9., 7., 9., 8., 2., 4.,\n",
       "       3., 7., 9., 4., 2., 5., 9., 2., 7., 4., 8., 8., 6., 9., 0., 7., 1.,\n",
       "       3., 6., 4., 7., 9., 5., 6., 2., 5., 6., 5., 2., 6., 2., 0., 9., 3.,\n",
       "       0., 1., 1., 8., 0., 0., 0., 2., 0., 1., 6., 3., 4., 1., 5., 0., 2.,\n",
       "       3., 4., 4., 7., 0., 0., 8., 4., 9., 8., 4., 0., 5., 1., 1., 1., 8.,\n",
       "       4., 6., 2., 4., 1., 0., 8., 5., 3., 6., 7., 1., 4., 7., 7., 7., 5.,\n",
       "       3., 7., 5., 2., 7., 9., 5., 8., 0., 0., 8., 7., 3., 4., 7., 2., 1.,\n",
       "       1., 9., 4., 4., 5., 0., 8., 1., 0., 7., 3., 0., 1., 7., 9., 9., 6.,\n",
       "       5., 8., 8., 5., 6., 3., 6., 9., 0., 8., 6., 8., 3., 9., 9., 7., 4.,\n",
       "       1., 7., 0.])"
      ]
     },
     "execution_count": 26,
     "metadata": {},
     "output_type": "execute_result"
    }
   ],
   "source": [
    "%time my_clf.predict(X_test)"
   ]
  },
  {
   "cell_type": "code",
   "execution_count": 27,
   "metadata": {},
   "outputs": [
    {
     "name": "stdout",
     "output_type": "stream",
     "text": [
      "CPU times: user 3.45 s, sys: 401 ms, total: 3.85 s\n",
      "Wall time: 1.53 s\n"
     ]
    },
    {
     "data": {
      "text/plain": [
       "array([[0., 0., 0., ..., 0., 0., 0.],\n",
       "       [0., 0., 1., ..., 0., 0., 0.],\n",
       "       [0., 0., 0., ..., 0., 0., 0.],\n",
       "       ...,\n",
       "       [0., 1., 0., ..., 0., 0., 0.],\n",
       "       [0., 0., 0., ..., 1., 0., 0.],\n",
       "       [1., 0., 0., ..., 0., 0., 0.]])"
      ]
     },
     "execution_count": 27,
     "metadata": {},
     "output_type": "execute_result"
    }
   ],
   "source": [
    "%time clf.predict_proba(X_test)"
   ]
  },
  {
   "cell_type": "code",
   "execution_count": 28,
   "metadata": {},
   "outputs": [
    {
     "name": "stdout",
     "output_type": "stream",
     "text": [
      "CPU times: user 38 s, sys: 731 ms, total: 38.7 s\n",
      "Wall time: 38.9 s\n"
     ]
    },
    {
     "data": {
      "text/plain": [
       "array([[0., 0., 0., ..., 0., 0., 0.],\n",
       "       [0., 0., 1., ..., 0., 0., 0.],\n",
       "       [0., 0., 0., ..., 0., 0., 0.],\n",
       "       ...,\n",
       "       [0., 1., 0., ..., 0., 0., 0.],\n",
       "       [0., 0., 0., ..., 1., 0., 0.],\n",
       "       [1., 0., 0., ..., 0., 0., 0.]])"
      ]
     },
     "execution_count": 28,
     "metadata": {},
     "output_type": "execute_result"
    }
   ],
   "source": [
    "%time my_clf.predict_proba(X_test)"
   ]
  },
  {
   "cell_type": "code",
   "execution_count": 29,
   "metadata": {},
   "outputs": [
    {
     "data": {
      "text/plain": [
       "0.9685714285714285"
      ]
     },
     "execution_count": 29,
     "metadata": {},
     "output_type": "execute_result"
    }
   ],
   "source": [
    "clf.score(X_test, y_test)"
   ]
  },
  {
   "cell_type": "code",
   "execution_count": 30,
   "metadata": {},
   "outputs": [
    {
     "data": {
      "text/plain": [
       "0.9685714285714285"
      ]
     },
     "execution_count": 30,
     "metadata": {},
     "output_type": "execute_result"
    }
   ],
   "source": [
    "my_clf.score(X_test, y_test)"
   ]
  },
  {
   "cell_type": "markdown",
   "metadata": {},
   "source": [
    "Задание 4"
   ]
  },
  {
   "cell_type": "code",
   "execution_count": 31,
   "metadata": {},
   "outputs": [],
   "source": [
    "clf = KNeighborsClassifier(n_neighbors=2, algorithm='kd_tree')\n",
    "my_clf = MyKNeighborsClassifier(n_neighbors=2, algorithm='kd_tree')"
   ]
  },
  {
   "cell_type": "code",
   "execution_count": 32,
   "metadata": {},
   "outputs": [],
   "source": [
    "# X_train, X_test, y_train, y_test = train_test_split(mnist.data, mnist.target, test_size=0.01, stratify=mnist.target)"
   ]
  },
  {
   "cell_type": "code",
   "execution_count": 33,
   "metadata": {},
   "outputs": [
    {
     "name": "stdout",
     "output_type": "stream",
     "text": [
      "CPU times: user 34.4 s, sys: 222 ms, total: 34.6 s\n",
      "Wall time: 34.6 s\n"
     ]
    },
    {
     "data": {
      "text/plain": [
       "KNeighborsClassifier(algorithm='kd_tree', leaf_size=30, metric='minkowski',\n",
       "           metric_params=None, n_jobs=None, n_neighbors=2, p=2,\n",
       "           weights='uniform')"
      ]
     },
     "execution_count": 33,
     "metadata": {},
     "output_type": "execute_result"
    }
   ],
   "source": [
    "%time clf.fit(X_train, y_train)"
   ]
  },
  {
   "cell_type": "code",
   "execution_count": 34,
   "metadata": {},
   "outputs": [
    {
     "name": "stdout",
     "output_type": "stream",
     "text": [
      "CPU times: user 34.7 s, sys: 259 ms, total: 34.9 s\n",
      "Wall time: 34.8 s\n"
     ]
    }
   ],
   "source": [
    "%time my_clf.fit(X_train, y_train)"
   ]
  },
  {
   "cell_type": "code",
   "execution_count": 35,
   "metadata": {},
   "outputs": [
    {
     "name": "stdout",
     "output_type": "stream",
     "text": [
      "CPU times: user 47.7 s, sys: 67.2 ms, total: 47.7 s\n",
      "Wall time: 47.8 s\n"
     ]
    },
    {
     "data": {
      "text/plain": [
       "array([4., 2., 5., 6., 6., 8., 3., 6., 8., 9., 9., 4., 1., 3., 2., 7., 3.,\n",
       "       1., 7., 2., 0., 2., 8., 9., 5., 9., 4., 0., 6., 0., 5., 4., 9., 2.,\n",
       "       3., 6., 9., 6., 1., 0., 1., 9., 1., 3., 1., 5., 9., 9., 8., 2., 4.,\n",
       "       7., 3., 1., 8., 9., 7., 7., 0., 6., 5., 3., 8., 9., 2., 6., 2., 1.,\n",
       "       4., 7., 9., 6., 2., 2., 5., 1., 0., 5., 6., 2., 3., 0., 6., 1., 7.,\n",
       "       3., 7., 4., 1., 8., 6., 8., 1., 5., 7., 5., 6., 9., 8., 0., 0., 0.,\n",
       "       7., 7., 7., 8., 0., 3., 6., 9., 4., 7., 5., 3., 6., 9., 3., 3., 0.,\n",
       "       1., 9., 9., 4., 7., 6., 1., 0., 2., 0., 0., 9., 1., 5., 3., 5., 7.,\n",
       "       3., 4., 1., 7., 1., 8., 9., 2., 8., 3., 3., 8., 6., 9., 3., 5., 4.,\n",
       "       8., 9., 4., 9., 3., 0., 1., 0., 4., 7., 2., 1., 9., 0., 2., 2., 9.,\n",
       "       2., 2., 5., 8., 6., 7., 0., 4., 1., 1., 8., 6., 3., 3., 1., 8., 3.,\n",
       "       4., 7., 3., 7., 6., 4., 8., 3., 4., 1., 2., 9., 8., 3., 3., 2., 3.,\n",
       "       2., 0., 2., 3., 8., 2., 9., 0., 3., 5., 7., 0., 8., 6., 0., 5., 1.,\n",
       "       8., 7., 1., 1., 9., 5., 7., 7., 6., 6., 5., 2., 9., 2., 8., 7., 4.,\n",
       "       5., 6., 2., 4., 3., 0., 1., 9., 1., 1., 6., 4., 0., 2., 0., 7., 8.,\n",
       "       7., 4., 7., 4., 4., 1., 3., 1., 7., 0., 7., 6., 9., 2., 7., 9., 9.,\n",
       "       4., 9., 1., 7., 7., 1., 5., 7., 4., 1., 0., 6., 7., 7., 6., 1., 7.,\n",
       "       0., 8., 1., 4., 1., 3., 8., 3., 9., 5., 2., 5., 3., 7., 2., 3., 5.,\n",
       "       9., 0., 3., 3., 0., 4., 5., 0., 2., 2., 6., 7., 5., 1., 2., 2., 9.,\n",
       "       3., 1., 9., 7., 6., 3., 6., 9., 0., 1., 5., 2., 7., 0., 9., 0., 8.,\n",
       "       3., 5., 5., 7., 3., 4., 5., 1., 5., 6., 5., 6., 1., 8., 6., 3., 3.,\n",
       "       3., 9., 9., 0., 7., 8., 9., 6., 4., 9., 6., 7., 7., 4., 9., 2., 9.,\n",
       "       2., 3., 6., 5., 9., 4., 1., 6., 7., 7., 2., 8., 2., 0., 2., 8., 1.,\n",
       "       1., 7., 5., 9., 7., 6., 5., 0., 9., 1., 2., 6., 1., 6., 1., 4., 6.,\n",
       "       4., 6., 3., 1., 3., 3., 0., 3., 5., 4., 3., 0., 1., 4., 0., 4., 0.,\n",
       "       5., 8., 3., 5., 9., 1., 6., 8., 2., 1., 2., 2., 5., 9., 1., 1., 1.,\n",
       "       2., 0., 0., 2., 2., 7., 1., 2., 1., 3., 8., 4., 4., 7., 4., 2., 2.,\n",
       "       8., 8., 1., 8., 0., 8., 6., 6., 7., 8., 0., 8., 1., 4., 0., 9., 4.,\n",
       "       8., 4., 6., 4., 3., 7., 7., 6., 4., 6., 3., 5., 9., 0., 9., 5., 2.,\n",
       "       5., 0., 9., 3., 2., 1., 8., 0., 6., 2., 4., 3., 6., 5., 0., 3., 6.,\n",
       "       3., 4., 3., 5., 8., 6., 7., 6., 6., 3., 6., 5., 2., 1., 1., 6., 8.,\n",
       "       0., 1., 1., 8., 5., 3., 7., 2., 7., 2., 3., 1., 4., 0., 4., 0., 1.,\n",
       "       4., 4., 1., 2., 3., 8., 3., 0., 2., 0., 8., 9., 7., 9., 8., 2., 4.,\n",
       "       3., 7., 9., 4., 2., 5., 9., 2., 7., 4., 8., 8., 6., 9., 0., 7., 1.,\n",
       "       3., 6., 4., 7., 9., 5., 6., 2., 5., 6., 5., 2., 6., 2., 0., 9., 3.,\n",
       "       0., 1., 1., 8., 0., 0., 0., 2., 0., 1., 6., 3., 4., 1., 5., 0., 2.,\n",
       "       3., 4., 4., 7., 0., 0., 8., 4., 9., 8., 4., 0., 5., 1., 1., 1., 8.,\n",
       "       4., 6., 2., 4., 1., 0., 8., 5., 3., 6., 7., 1., 4., 7., 7., 7., 5.,\n",
       "       3., 7., 5., 2., 7., 9., 5., 8., 0., 0., 8., 7., 3., 4., 7., 2., 1.,\n",
       "       1., 9., 4., 4., 5., 0., 8., 1., 0., 7., 3., 0., 1., 7., 9., 9., 6.,\n",
       "       5., 8., 8., 5., 6., 3., 6., 9., 0., 8., 6., 8., 3., 9., 9., 7., 4.,\n",
       "       1., 7., 0.])"
      ]
     },
     "execution_count": 35,
     "metadata": {},
     "output_type": "execute_result"
    }
   ],
   "source": [
    "%time clf.predict(X_test)"
   ]
  },
  {
   "cell_type": "code",
   "execution_count": 36,
   "metadata": {},
   "outputs": [
    {
     "name": "stdout",
     "output_type": "stream",
     "text": [
      "CPU times: user 40.3 s, sys: 60.1 ms, total: 40.4 s\n",
      "Wall time: 40.4 s\n"
     ]
    },
    {
     "data": {
      "text/plain": [
       "array([4., 2., 5., 6., 6., 8., 3., 6., 8., 9., 9., 4., 1., 3., 2., 7., 3.,\n",
       "       1., 7., 2., 0., 2., 8., 9., 5., 9., 4., 0., 6., 0., 5., 4., 9., 2.,\n",
       "       3., 6., 9., 6., 1., 0., 1., 9., 1., 3., 1., 5., 9., 9., 8., 2., 4.,\n",
       "       7., 3., 1., 8., 9., 7., 7., 0., 6., 5., 3., 8., 9., 2., 6., 2., 1.,\n",
       "       4., 7., 9., 6., 2., 2., 5., 1., 0., 5., 6., 2., 3., 0., 6., 1., 7.,\n",
       "       3., 7., 4., 1., 8., 6., 8., 1., 5., 7., 5., 6., 9., 8., 0., 0., 0.,\n",
       "       7., 7., 7., 8., 0., 3., 6., 9., 4., 7., 5., 3., 6., 9., 3., 3., 0.,\n",
       "       1., 9., 9., 4., 7., 6., 1., 0., 2., 0., 0., 9., 1., 5., 3., 5., 7.,\n",
       "       3., 4., 1., 7., 1., 8., 9., 2., 8., 3., 3., 8., 6., 9., 3., 5., 4.,\n",
       "       8., 9., 4., 9., 3., 0., 1., 0., 4., 7., 2., 1., 9., 0., 2., 2., 9.,\n",
       "       2., 2., 5., 8., 6., 7., 0., 4., 1., 1., 8., 6., 3., 3., 1., 8., 3.,\n",
       "       4., 7., 3., 7., 6., 4., 8., 3., 4., 1., 2., 9., 8., 3., 3., 2., 3.,\n",
       "       2., 0., 2., 3., 8., 2., 9., 0., 3., 5., 7., 0., 8., 6., 0., 5., 1.,\n",
       "       8., 7., 1., 1., 9., 5., 7., 7., 6., 6., 5., 2., 9., 2., 8., 7., 4.,\n",
       "       5., 6., 2., 4., 3., 0., 1., 9., 1., 1., 6., 4., 0., 2., 0., 7., 8.,\n",
       "       7., 4., 7., 4., 4., 1., 3., 1., 7., 0., 7., 6., 9., 2., 7., 9., 9.,\n",
       "       4., 9., 1., 7., 7., 1., 5., 7., 4., 1., 0., 6., 7., 7., 6., 1., 7.,\n",
       "       0., 8., 1., 4., 1., 3., 8., 3., 9., 5., 2., 5., 3., 7., 2., 3., 5.,\n",
       "       9., 0., 3., 3., 0., 4., 5., 0., 2., 2., 6., 7., 5., 1., 2., 2., 9.,\n",
       "       3., 1., 9., 7., 6., 3., 6., 9., 0., 1., 5., 2., 7., 0., 9., 0., 8.,\n",
       "       3., 5., 5., 7., 3., 4., 5., 1., 5., 6., 5., 6., 1., 8., 6., 3., 3.,\n",
       "       3., 9., 9., 0., 7., 8., 9., 6., 4., 9., 6., 7., 7., 4., 9., 2., 9.,\n",
       "       2., 3., 6., 5., 9., 4., 1., 6., 7., 7., 2., 8., 2., 0., 2., 8., 1.,\n",
       "       1., 7., 5., 9., 7., 6., 5., 0., 9., 1., 2., 6., 1., 6., 1., 4., 6.,\n",
       "       4., 6., 3., 1., 3., 3., 0., 3., 5., 4., 3., 0., 1., 4., 0., 4., 0.,\n",
       "       5., 8., 3., 5., 9., 1., 6., 8., 2., 1., 2., 2., 5., 9., 1., 1., 1.,\n",
       "       2., 0., 0., 2., 2., 7., 1., 2., 1., 3., 8., 4., 4., 7., 4., 2., 2.,\n",
       "       8., 8., 1., 8., 0., 8., 6., 6., 7., 8., 0., 8., 1., 4., 0., 9., 4.,\n",
       "       8., 4., 6., 4., 3., 7., 7., 6., 4., 6., 3., 5., 9., 0., 9., 5., 2.,\n",
       "       5., 0., 9., 3., 2., 1., 8., 0., 6., 2., 4., 3., 6., 5., 0., 3., 6.,\n",
       "       3., 4., 3., 5., 8., 6., 7., 6., 6., 3., 6., 5., 2., 1., 1., 6., 8.,\n",
       "       0., 1., 1., 8., 5., 3., 7., 2., 7., 2., 3., 1., 4., 0., 4., 0., 1.,\n",
       "       4., 4., 1., 2., 3., 8., 3., 0., 2., 0., 8., 9., 7., 9., 8., 2., 4.,\n",
       "       3., 7., 9., 4., 2., 5., 9., 2., 7., 4., 8., 8., 6., 9., 0., 7., 1.,\n",
       "       3., 6., 4., 7., 9., 5., 6., 2., 5., 6., 5., 2., 6., 2., 0., 9., 3.,\n",
       "       0., 1., 1., 8., 0., 0., 0., 2., 0., 1., 6., 3., 4., 1., 5., 0., 2.,\n",
       "       3., 4., 4., 7., 0., 0., 8., 4., 9., 8., 4., 0., 5., 1., 1., 1., 8.,\n",
       "       4., 6., 2., 4., 1., 0., 8., 5., 3., 6., 7., 1., 4., 7., 7., 7., 5.,\n",
       "       3., 7., 5., 2., 7., 9., 5., 8., 0., 0., 8., 7., 3., 4., 7., 2., 1.,\n",
       "       1., 9., 4., 4., 5., 0., 8., 1., 0., 7., 3., 0., 1., 7., 9., 9., 6.,\n",
       "       5., 8., 8., 5., 6., 3., 6., 9., 0., 8., 6., 8., 3., 9., 9., 7., 4.,\n",
       "       1., 7., 0.])"
      ]
     },
     "execution_count": 36,
     "metadata": {},
     "output_type": "execute_result"
    }
   ],
   "source": [
    "%time my_clf.predict(X_test)"
   ]
  },
  {
   "cell_type": "code",
   "execution_count": 37,
   "metadata": {},
   "outputs": [
    {
     "name": "stdout",
     "output_type": "stream",
     "text": [
      "CPU times: user 49.4 s, sys: 101 ms, total: 49.5 s\n",
      "Wall time: 49.5 s\n"
     ]
    },
    {
     "data": {
      "text/plain": [
       "array([[0., 0., 0., ..., 0., 0., 0.],\n",
       "       [0., 0., 1., ..., 0., 0., 0.],\n",
       "       [0., 0., 0., ..., 0., 0., 0.],\n",
       "       ...,\n",
       "       [0., 1., 0., ..., 0., 0., 0.],\n",
       "       [0., 0., 0., ..., 1., 0., 0.],\n",
       "       [1., 0., 0., ..., 0., 0., 0.]])"
      ]
     },
     "execution_count": 37,
     "metadata": {},
     "output_type": "execute_result"
    }
   ],
   "source": [
    "%time clf.predict_proba(X_test)"
   ]
  },
  {
   "cell_type": "code",
   "execution_count": 38,
   "metadata": {},
   "outputs": [
    {
     "name": "stdout",
     "output_type": "stream",
     "text": [
      "CPU times: user 41 s, sys: 76.7 ms, total: 41.1 s\n",
      "Wall time: 41.1 s\n"
     ]
    },
    {
     "data": {
      "text/plain": [
       "array([[0., 0., 0., ..., 0., 0., 0.],\n",
       "       [0., 0., 1., ..., 0., 0., 0.],\n",
       "       [0., 0., 0., ..., 0., 0., 0.],\n",
       "       ...,\n",
       "       [0., 1., 0., ..., 0., 0., 0.],\n",
       "       [0., 0., 0., ..., 1., 0., 0.],\n",
       "       [1., 0., 0., ..., 0., 0., 0.]])"
      ]
     },
     "execution_count": 38,
     "metadata": {},
     "output_type": "execute_result"
    }
   ],
   "source": [
    "%time my_clf.predict_proba(X_test)"
   ]
  },
  {
   "cell_type": "code",
   "execution_count": 39,
   "metadata": {},
   "outputs": [
    {
     "data": {
      "text/plain": [
       "0.9685714285714285"
      ]
     },
     "execution_count": 39,
     "metadata": {},
     "output_type": "execute_result"
    }
   ],
   "source": [
    "clf.score(X_test, y_test)"
   ]
  },
  {
   "cell_type": "code",
   "execution_count": 40,
   "metadata": {},
   "outputs": [
    {
     "data": {
      "text/plain": [
       "0.9685714285714285"
      ]
     },
     "execution_count": 40,
     "metadata": {},
     "output_type": "execute_result"
    }
   ],
   "source": [
    "my_clf.score(X_test, y_test)"
   ]
  },
  {
   "cell_type": "markdown",
   "metadata": {},
   "source": [
    "Задание 5"
   ]
  },
  {
   "cell_type": "markdown",
   "metadata": {},
   "source": [
    "# seaborn\n",
    "Бибиотека визуализации, написанная \"поверх\" matplotlib, более элегантная с точки зрения дизайна\n",
    "\n",
    "# matplotlib\n",
    "Библиотека визуализации для построения графиков, диаграмм и т.д. Де-факто стандарт для визуализации,\n",
    "хотя сейчас уже появляется множество инструментов для интерактивной графики - plotly, hicharts и т.д.\n",
    "\n",
    "# train_test_split\n",
    "Библиотека для разделение выборки (признаки и таргет) на соответствующие обучающие и тестовую выборки\n",
    "\n",
    "# Pipelin%load_ext e (from sklearn.pipeline import Pipeline)\n",
    "Пайплайн для задач машинного обучения от sklearn, т.е. фреймворк, позволяющий логически объедить все \n",
    "задачи от препроцессинга и преобразования даннных до обучения моделей\n",
    "\n",
    "# StandardScaler (from sklearn.preprocessing import StandardScaler)\n",
    "Одна из стандартных библиотек нормализации данных (иногда называется ругательным словом \"шкалирование\")\n",
    "\n",
    "Ниже группа базовых и миксин-классов sklearn\n",
    "Миксин — это класс, предназначенный для расширения функциональности других классов\n",
    "\n",
    "# ClassifierMixin\n",
    "Класс-примесь для всех классификаторов sklearn\n",
    "\n",
    "# NeighborsBase\n",
    "Базовый класс для реализации алгоритма ближайших соседей - определяет базовые методы\n",
    "\n",
    "# KNeighborsMixin\n",
    "Класс, расширяющий базовый функцинал NeighborsBase\n",
    "    \n",
    "# SupervisedIntegerMixin\n",
    "Еще один из базовых миксинов, определяющий метод fit для таргетов с целочисленными метками (судя по быстрому просмотру кода)"
   ]
  },
  {
   "cell_type": "code",
   "execution_count": null,
   "metadata": {},
   "outputs": [],
   "source": []
  }
 ],
 "metadata": {
  "kernelspec": {
   "display_name": "Python [conda env:pt040p36]",
   "language": "python",
   "name": "conda-env-pt040p36-py"
  },
  "language_info": {
   "codemirror_mode": {
    "name": "ipython",
    "version": 3
   },
   "file_extension": ".py",
   "mimetype": "text/x-python",
   "name": "python",
   "nbconvert_exporter": "python",
   "pygments_lexer": "ipython3",
   "version": "3.6.7"
  }
 },
 "nbformat": 4,
 "nbformat_minor": 2
}
