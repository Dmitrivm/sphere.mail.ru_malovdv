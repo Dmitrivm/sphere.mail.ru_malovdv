{
 "cells": [
  {
   "cell_type": "markdown",
   "metadata": {},
   "source": [
    "# Алгоритмы интеллектуальной обработки больших объемов данных\n",
    "## Домашнее задание №4 - Алгоритмы кластеризации\n"
   ]
  },
  {
   "cell_type": "markdown",
   "metadata": {},
   "source": [
    "###### <hr\\>\n",
    "**Общая информация**\n",
    "\n",
    "**Срок сдачи:** 6 мая 2019, 06:00 <br\\>\n",
    "**Штраф за опоздание:** -2 балла после 06:00 6 мая, -4 балла после 06:00 13 мая, -6 баллов после 06:00 20 мая -8 баллов  после 06:00 27 мая\n",
    "\n",
    "\n",
    "Используйте данный Ipython Notebook при оформлении домашнего задания.\n",
    "<hr\\>"
   ]
  },
  {
   "cell_type": "markdown",
   "metadata": {},
   "source": [
    "**Из чего состоит задание:**\n",
    "\n",
    "###### Теоретические вопросы (2 балла)\n",
    "\n",
    "###### Реализация алгоритма кластеризации (5 баллов)\n",
    "\n",
    "###### Боевое применение (3 балла)\n",
    "\n",
    "\n"
   ]
  },
  {
   "cell_type": "markdown",
   "metadata": {},
   "source": [
    "**Штрафные баллы:**\n",
    "\n",
    "1. Невыполнение PEP8 -1 балл\n",
    "2. Отсутствие фамилии в имени скрипта (скрипт должен называться по аналогии со stroykova_hw4.ipynb) -1 балл\n",
    "3. Все строчки должны быть выполнены. Нужно, чтобы output команды можно было увидеть уже в git'е. В противном случае -1 балл\n",
    "4. При оформлении ДЗ нужно пользоваться данным файлом в качестве шаблона. Не нужно удалять и видоизменять написанный код и текст. В противном случае -1 балл"
   ]
  },
  {
   "cell_type": "code",
   "execution_count": 399,
   "metadata": {},
   "outputs": [
    {
     "name": "stdout",
     "output_type": "stream",
     "text": [
      "Populating the interactive namespace from numpy and matplotlib\n"
     ]
    },
    {
     "name": "stderr",
     "output_type": "stream",
     "text": [
      "/anaconda3/envs/pt1p36/lib/python3.6/site-packages/IPython/core/magics/pylab.py:160: UserWarning: pylab import has clobbered these variables: ['clf']\n",
      "`%matplotlib` prevents importing * from pylab and numpy\n",
      "  \"\\n`%matplotlib` prevents importing * from pylab and numpy\"\n"
     ]
    }
   ],
   "source": [
    "import time\n",
    "import pandas as pd\n",
    "import pylab as pl\n",
    "import numpy as np\n",
    "import scipy.spatial as ss\n",
    "import sklearn.cluster as sc\n",
    "import sklearn.manifold as sm\n",
    "import sklearn.datasets as ds\n",
    "import sklearn.metrics as smt\n",
    "from sklearn.mixture import GaussianMixture\n",
    "from sklearn.cluster import AgglomerativeClustering\n",
    "from scipy.spatial import distance\n",
    "from collections import deque\n",
    "from collections import defaultdict\n",
    "\n",
    "import matplotlib.pyplot as plt\n",
    "%matplotlib inline\n",
    "\n",
    "from sklearn.metrics import f1_score\n",
    "\n",
    "plt.style.use('ggplot')\n",
    "plt.rcParams['figure.figsize'] = (12,5)\n",
    "\n",
    "# Plotting config\n",
    "%pylab inline"
   ]
  },
  {
   "cell_type": "markdown",
   "metadata": {},
   "source": [
    "# Теоретическое введение\n"
   ]
  },
  {
   "cell_type": "markdown",
   "metadata": {},
   "source": [
    "Основная задача кластерного анализа — разбиение исходного набора объектов на группы (кластеры) таким образом, чтобы объекты в группе были похожи друг на друга, а объекты из разных групп - отличались. \n",
    "\n",
    "В этой работе мы будем реализовывать агломеративную кластеризацию. "
   ]
  },
  {
   "cell_type": "markdown",
   "metadata": {
    "collapsed": true
   },
   "source": [
    "## Агломеративная кластеризация"
   ]
  },
  {
   "cell_type": "markdown",
   "metadata": {},
   "source": [
    "Иерархические алгоритмы кластеризации строят на выборке систему вложенных разбиений.  Наиболее часто испоьзуемые иерархические алгоритмы - агломеративные алгоритмы, которые строят ирархию по восходящей, то есть от момента, когда все элементы являются отдельными кластерами, до того момента, пока вся выборка не станет одним кластером."
   ]
  },
  {
   "cell_type": "markdown",
   "metadata": {},
   "source": [
    "Сам алгоритм описать можно примерно так:\n",
    "\n",
    "* начинаем с ситуации, когда каждый объект - отдельный кластер\n",
    "* на каждом шаге совмещаем два наиболее близких кластера\n",
    "* останавливаемся, когда получаем требуемое количество или единственный кластер"
   ]
  },
  {
   "cell_type": "markdown",
   "metadata": {},
   "source": [
    "\n",
    "В данной работе Вам предлагается реализовать три варианта расстояний между кластерами, по которым Вы определяете пару для слияния: \n",
    "* Single linkage\n",
    "$$ d_{min}(C_i, C_j) = \\min_{\\mathbf{x} \\in C_i, \\mathbf{x}' \\in C_j} \\|\\mathbf{x} -\\mathbf{x}' \\| $$\n",
    "\n",
    "* Complete linkage\n",
    "$$ d_{max}(C_i, C_j) = \\max_{\\mathbf{x} \\in C_i, \\mathbf{x}' \\in C_j} \\|\\mathbf{x} -\\mathbf{x}' \\| $$\n",
    "\n",
    "* Average linkage\n",
    "$$ d_{avg}(C_i, C_j) = \\frac{1}{n_i n_j}\\sum_{\\mathbf{x} \\in C_i}\\sum_{\\mathbf{x}' \\in C_j} \\|\\mathbf{x} -\\mathbf{x}' \\| $$\n",
    "\n",
    "Как считать расстояние $\\|\\mathbf{x} -\\mathbf{x}' \\|$ между объектами Вы должны выбрать сами.  Вы должны четко понимать, что выбор расстояния между объектами - самое важное в такого рода алгоритмах. Передавайте название расстояния в конструктор класса, а потом, в зависимости от названия, применяете ту или иную функцию для подсчета расстояния. \n",
    "\n"
   ]
  },
  {
   "cell_type": "markdown",
   "metadata": {},
   "source": [
    "Для того, чтобы на втором этапе нам не пересчитывать заново расстояния между всеми парами кластеров, можно использовать Формулы Ланса-Вильямса, которые позволяют посчитать расстояние между кластерами после объединения, используя только расстояния между кластерами до объедения.  Таким образом, достаточно будет посчитать расстояния только между всеми одноэлементными кластерами (первый этап), а затем пересчитывать расстояния при их объединении через \n",
    "формулы Ланса-Вильямса. \n",
    "\n",
    "Общая  формула выглядит так:\n",
    "$$ d(C_i \\cup C_j, C_k) = a_i \\cdot d(C_i, C_k) + a_j \\cdot d(C_j, C_k) + b \\cdot d(C_i, C_j) + c \\cdot |d(C_i, C_k) - d(C_j, C_k)|$$\n",
    "\n",
    "Можно показать, что все относительно разумные кластерные расстояния можно описать данной формулой. \n",
    "\n",
    "Для интересущих нас linkage:\n",
    "\n",
    "* single-linkage       $a_i = \\frac{1}{2}, a_j =  \\frac{1}{2}, b = 0, c =  - \\frac{1}{2} $\n",
    "\n",
    "* complete-linkage     $a_i = \\frac{1}{2}, a_j =  \\frac{1}{2}, b = 0, c =   \\frac{1}{2} $\n",
    "\n",
    "* average-linkage       $a_i = \\frac{|C_i|}{|C_i \\cup C_j|}, a_j =  \\frac{|C_j|}{|C_i \\cup C_j|}, b = 0, c = 0 $\n",
    "\n"
   ]
  },
  {
   "cell_type": "markdown",
   "metadata": {},
   "source": [
    "# Теоретические вопросы (2 балла)\n",
    "В этой части Вам будут предложены теоретичские вопросы и задачи по теме. Вы, конечно, можете списать их у своего товарища или найти решение в интернете, но учтите, что они обязательно войдут в теоретический коллоквиум. Лучше разобраться в теме сейчас и успешно ответить на коллоквиуме, чем списать, не разобравшись в материале, и быть терзаемым совестью. \n",
    "\n",
    "\n",
    "Формулы надо оформлять в формате **LaTeX**."
   ]
  },
  {
   "cell_type": "markdown",
   "metadata": {},
   "source": [
    "Задача 1. Сходимость kmeans.\n",
    "\n",
    "Метод kmeans является частным случаем EM алгоритма и наиболее простым в обосновании сходимости. Докажите, что kmeans всегда сходится, и итераций не будет превышать $k^N$, где $k$ $-$ число кластеров, $N$ $-$ число объектов\n",
    "\n",
    "Подсказка: Вам стоит рассмотреть функционал, который минимизирует алгоритм, и подумать, как он изменяется на E шаге и на M шаге.\n",
    "\n"
   ]
  },
  {
   "cell_type": "markdown",
   "metadata": {},
   "source": [
    "### Решение: $k^N$ - это верхняя оценка количеста вариантов разбиения $N$ объектов по $K$ кластерам (хотя эта оценка немного завышена). Т.е. количество возможных разбиений конечно.\n",
    "\n",
    "Можно доказать, что на каждом шаге переназначения центроидов кластеров функционал стоимости снижается, т.е. минимизируемый функционал стоимости является монотонно убывающей функцией.\n",
    "\n",
    "Более того, очевидно, что если на каком-то этапе переназначения не произошло, то на этом структура кластеров фиксируется и дальнейшних изменений не происходит, т.е. процесс сошёлся.\n",
    "\n",
    "Из этих двух факторов следует, что процесс сходится за конечное время. Надо отметить, что процесс сходится в общем случае к локальному минимуму, т.к. функционал не является выпуклой функцией."
   ]
  },
  {
   "cell_type": "markdown",
   "metadata": {},
   "source": [
    "Задача 2. Сходимость EM.\n",
    "\n",
    "Разобравшись со сходимостью kmeans, можно догадаться и до ответа про EM алгоритм.\n",
    "\n",
    "При каком условии на правдоподобие системы EM алгоритм будет  сходиться?\n",
    "\n"
   ]
  },
  {
   "cell_type": "markdown",
   "metadata": {},
   "source": [
    "### Решение: распределение должно удовлетворять условию гладкости. Должна существовать стационарная точка правдоподобия."
   ]
  },
  {
   "cell_type": "markdown",
   "metadata": {},
   "source": [
    "Задача 3. Формулы Ланса-Вильямса.\n",
    "\n",
    "Формулы Ланса-Вильямса крайне удобны для быстрого пересчёта расстояний в агломеративной кластеризации. Давайте докажем  формулы для single и complete linkage. \n",
    "\n",
    "Докажите, что:\n",
    "\n",
    "$d_{\\min}(U \\cup V, S) = \\frac{1}{2} d_{\\min}(U, S) + \\frac{1}{2} d_{\\min}(V, S)  - \\frac{1}{2} | d_{\\min}(U, S) - d_{\\min}(V, S) |  $\n",
    "\n",
    "\n",
    "$d_{\\max}(U \\cup V, S) = \\frac{1}{2} d_{\\max}(U, S) + \\frac{1}{2} d_{\\max}(V, S)  + \\frac{1}{2} | d_{\\max}(U, S) - d_{\\max}(V, S) |  $\n",
    "\n",
    "\n"
   ]
  },
  {
   "cell_type": "markdown",
   "metadata": {},
   "source": [
    "### Решение: попробую для таких простых случаев обойтись без формул. \n",
    "\n",
    "Для single linkage модуль раскрывается либо как $d_{\\min}(U, S) - d_{\\min}(V, S) $, либо как $d_{\\min}(V, S) - d_{\\min}(U, S) $ в зависимости от того, какой кластер \"ближе\" к S. После раскрытия модуля у нас два члена из суммы уничтожаются и остаются $1/2 + 1/2 = 1 * \\min[d_{\\min}(V, S), d_{\\min}(U, S)]$ (бОльшие значения при раскрытии модуля\n",
    "сокращаются, меньшие остаются), что и соответствует определению single linkage, посколько после объединения элементов двух кластеров наименьшее расстояние от элемента этого кластера до кластера $S$ есть мера расстояния в соответствии с single linkage.\n",
    "\n",
    "Рассмотрим один пример для наглядности: \n",
    "пусть $d_{\\min}(U, S) < d_{\\min}(V, S)$, тогда $d_{\\min}(U \\cup V, S) = \\frac{1}{2} d_{\\min}(U, S) + \\frac{1}{2} d_{\\min}(V, S)  - \\frac{1}{2} d_{\\min}(V, S) + \\frac{1}{2} d_{\\min}(U, S) = d_{\\min}(U, S) $\n",
    "\n",
    "Второй случае аналогичен.\n",
    "\n",
    "Для complete linkage аналогично, но перед модулем стоит знак + и мы получаем после раскрытия сокращение двух других членов, в результате получаем $\\max[d_{\\max}(V, S), d_{\\max}(U, S)]$, что соответствует определению complete linkage для кластера, включающего все элементы и $V,  U$.\n"
   ]
  },
  {
   "cell_type": "markdown",
   "metadata": {},
   "source": [
    "# Реализация алгоритма кластеризации  (5 баллов)"
   ]
  },
  {
   "cell_type": "markdown",
   "metadata": {},
   "source": [
    "Алгоритм кластеризации должен удовлетворять следующему интерфейсу. Конструктор принимает набор параметров, необходимых для работы алгоритма кластеризации. Метод `fit` подсчитывает параметры модели и возвращает `self`. Метод `predict` возвращает вектор с индексами кластеров для поданных в него объектов `x`. "
   ]
  },
  {
   "cell_type": "code",
   "execution_count": 289,
   "metadata": {},
   "outputs": [],
   "source": [
    "from sklearn.base import BaseEstimator, ClusterMixin\n",
    "\n",
    "class Cluster():\n",
    "    def __init__(self, left=None, right=None, element=None, distance=None, depth=0, pn=-1, cluster_id=-1):\n",
    "        self.left = left\n",
    "        self.right = right\n",
    "        self.depth = depth\n",
    "        self.point_number = pn\n",
    "        self.cluster_id = cluster_id\n",
    "        \n",
    "        if left is not None:\n",
    "            self.left = left\n",
    "            self.right = right\n",
    "            self.elements = np.vstack([left.elements, right.elements])\n",
    "\n",
    "        if element is not None:\n",
    "            self.elements = element\n",
    "            self.elements = np.expand_dims(self.elements, 0)\n",
    "\n",
    "        self.centroid = np.mean(self.elements, axis=0)\n",
    "        self.distance = distance\n",
    "        \n",
    "class Clustering(BaseEstimator, ClusterMixin):\n",
    "    \"\"\"\n",
    "    Implement clustering algorithm according \n",
    "    \"\"\"\n",
    "    \n",
    "    def __init__(self, metric, n_clusters=None, **kwargs):\n",
    "        \"\"\"\n",
    "        metric - string with name of metric, for example, euclidean\n",
    "        Please add necessary algoritm parameters to class constructor.\n",
    "        \"\"\"\n",
    "        self.n_clusters = n_clusters or 1 # int(1e10)\n",
    "        self.metric = metric\n",
    "\n",
    "    def min_dist(self, cl1, cl2):\n",
    "        _dists = distance.cdist(cl1.elements, cl2.elements, 'euclidean')\n",
    "        #idx = np.unravel_index(np.argmin(_dists), _dists.shape)\n",
    "        return np.min(_dists) #_dists[idx]\n",
    "    \n",
    "    def max_dist(self, cl1, cl2):\n",
    "        _dists = distance.cdist(cl1.elements, cl2.elements, 'euclidean')\n",
    "        # idx = np.unravel_index(np.argmax(_dists), _dists.shape)\n",
    "        return np.max(_dists) # _dists[idx]\n",
    "    \n",
    "    def cl_dist(self, cl1, cl2, dist_method=None):\n",
    "        return numpy.linalg.norm(cl1.centroid - cl2.centroid)\n",
    "        \n",
    "    def fit_predict(self, x):\n",
    "        \"\"\"\n",
    "        Use data matrix x to compute model parameters and predict clusters\n",
    "        \"\"\"\n",
    "        self.autoincrement = len(x)\n",
    "        self.x = x # TODO!!! переделать, чтобы не сохранять ссылку на данные\n",
    "        self.x_len = len(x)\n",
    "        self.clusters = []\n",
    "        self.clusters_list = []\n",
    "        \n",
    "        # init base clusters\n",
    "        for _pos, _x in enumerate(x):\n",
    "            # print(np.expand_dims(_x, 0), x)\n",
    "            # по идее на этапе инициализации все значения будут идентичными!!! TODO Можно переделать.\n",
    "            # а можно оставить - сейчас получается двойное вычисление \n",
    "            _dist_matrix = distance.cdist(np.expand_dims(_x, 0), np.delete(x, _pos, axis=0), 'euclidean')\n",
    "            if self.metric == 'single':\n",
    "                _dist_cluster = np.min(_dist_matrix)\n",
    "            elif self.metric == 'complete':\n",
    "                _dist_cluster = np.max(_dist_matrix)\n",
    "            else:\n",
    "                _dist_cluster = np.mean(_dist_matrix)\n",
    "                \n",
    "            self.clusters.append(Cluster(element=_x, distance=_dist_cluster, depth=0, pn=_pos, cluster_id=_pos))\n",
    "        \n",
    "        # fit data - build clusters tree \n",
    "        cl_to_join = self.clusters\n",
    "        while len(cl_to_join) > self.n_clusters: # 1 : # пока не сведём всё в один кластер\n",
    "            \n",
    "            # ищем ближайшие (доработка)\n",
    "            \n",
    "            min_dist = int(1e10)\n",
    "            cl1 = None\n",
    "            cl2 = None\n",
    "            \n",
    "            # перебираем, пока не придумал как лучше сделать, потому что количество точек разные и попарно не получается\n",
    "            # сделать\n",
    "            for _cl1_pos, _cl1 in enumerate(cl_to_join[:-1]):\n",
    "                #print(\"_cl1 pos\", _cl1_pos)\n",
    "                for _cl2_pos, _cl2 in enumerate(cl_to_join[_cl1_pos + 1:]):\n",
    "                    #print(\"_cl2 pos\", _cl2_pos)\n",
    "                    if self.metric == 'single':\n",
    "                        _dist = self.min_dist(_cl1, _cl2)\n",
    "                        a = 0.5\n",
    "                        b = 0\n",
    "                        c = -0.5\n",
    "                    elif self.metric == 'complete':\n",
    "                        _dist = self.max_dist(_cl1, _cl2)\n",
    "                        a = 0.5\n",
    "                        b = 0\n",
    "                        c = 0.5\n",
    "                    elif self.metric == 'centroid':\n",
    "                        _dist = self.cl_dist(_cl1, _cl2)\n",
    "                        new_dist = _dist\n",
    "                    else: # average\n",
    "                        _dist = np.mean(_dist_matrix)\n",
    "\n",
    "                    if _dist < min_dist:\n",
    "                        cl1 = _cl1\n",
    "                        cl2 = _cl2\n",
    "                        min_dist = _dist\n",
    "            \n",
    "            # Используем формулы Ланса-Вильямса для сокращения размера кода\n",
    "            if self.metric != 'centroid':\n",
    "                new_dist = a * (cl1.distance + cl2.distance) + c * np.abs(cl1.distance - cl2.distance)\n",
    "                #print(new_dist)\n",
    "                    \n",
    "            # join and delete from list\n",
    "            # print(f\"cl1, cl2\", len(cl1.elements), len(cl2.elements))\n",
    "            cl_to_join.append(Cluster(left=cl1, right=cl2, distance=new_dist, depth=max(cl1.depth, cl2.depth) + 1, cluster_id=self.autoincrement)) # добавим новый и удалим два объединенных\n",
    "            \n",
    "            self.clusters_list.append((cl1.cluster_id, cl2.cluster_id, new_dist, len(cl1.elements) + len(cl2.elements), self.autoincrement))\n",
    "            \n",
    "            self.autoincrement += 1\n",
    "            cl_to_join.remove(cl1)\n",
    "            cl_to_join.remove(cl2)\n",
    "            \n",
    "            # print(cl1.elements, cl2.elements, min_dist)\n",
    "\n",
    "        # обновимся\n",
    "        # print(len(cl_to_join))\n",
    "        self.clusters = cl_to_join \n",
    "        \n",
    "        if True: # self.metric == 'centroid':\n",
    "            centroids = []\n",
    "            for _cl in self.clusters:\n",
    "                centroids.append(_cl.centroid)\n",
    "\n",
    "            _centr_arr = np.vstack(centroids)\n",
    "            preds = np.argmin(distance.cdist(x, _centr_arr, 'euclidean'), axis=1) # np.random.randint(1, size=len(x)) # preds = [1] * len(x) #np.argmin(distance.cdist(x, _centr_arr, 'euclidean'), axis=1)\n",
    "        else:  \n",
    "            # сделаем хэш-массив с мэппингом элементов на кластеры, к которым они отностся\n",
    "            # найти ближайшую точку и по ней выбрать кластер\n",
    "            points_map = {}\n",
    "            for _clnum, _cl in enumerate(self.clusters):\n",
    "                for _el in _cl.elements:\n",
    "                    #print(_el)\n",
    "                    points_map[tuple(_el)] = _clnum\n",
    "            \n",
    "            # preds = np.argmin(distance.cdist(x, x, 'euclidean'), axis=1)\n",
    "            preds = np.array([points_map[tuple(_x)] for _x in x])\n",
    "                \n",
    "        return preds\n",
    "    \n",
    "    \n",
    "    def printTree(self, root_node):\n",
    "        \"\"\"\n",
    "        Print tree for one root_node\n",
    "        \"\"\"\n",
    "        \n",
    "        self.treedict = defaultdict(list)\n",
    "        \n",
    "        if root_node is None:\n",
    "            return\n",
    "        else:\n",
    "            curr = root_node\n",
    "            q = deque()\n",
    "            q.append(curr)\n",
    "            \n",
    "            while (len(q) > 0):\n",
    "                curr = q.popleft()\n",
    "                self.treedict[curr.depth].append(curr)\n",
    "                # print(len(curr.elements), len(q))\n",
    "                \n",
    "                if not (curr.left is None):\n",
    "                    print(len(curr.elements), len(curr.left.elements), len(curr.right.elements), self.min_dist(curr.left, curr.right), \"Depth\", curr.depth)\n",
    "                    #print(\"Left\", curr.left.elements)\n",
    "                    #print(\"Right\", curr.right.elements)\n",
    "                if not (curr.left is None):\n",
    "                    q.append(curr.left)\n",
    "                if not (curr.right is None):\n",
    "                    q.append(curr.right)\n",
    "                    \n",
    "    def printTree2(self, root_node):\n",
    "        \"\"\"\n",
    "        Print tree for one root_node\n",
    "        \"\"\"\n",
    "        \n",
    "        self.treedict = defaultdict(list)\n",
    "        \n",
    "        if root_node is None:\n",
    "            return\n",
    "        else:\n",
    "            curr = root_node\n",
    "            q = deque()\n",
    "            q.append(curr)\n",
    "            \n",
    "            while (len(q) > 0):\n",
    "                curr = q.popleft()\n",
    "                self.treedict[curr.depth].append(curr.elements)\n",
    "                # print(len(curr.elements), len(q))\n",
    "                \n",
    "                if not (curr.left is None):\n",
    "                    print(len(curr.elements), len(curr.left.elements), len(curr.right.elements), self.min_dist(curr.left, curr.right), \"Depth\", curr.depth)\n",
    "                    #print(\"Left\", curr.left.elements)\n",
    "                    #print(\"Right\", curr.right.elements)\n",
    "                if not (curr.left is None):\n",
    "                    q.append(curr.left)\n",
    "                if not (curr.right is None):\n",
    "                    q.append(curr.right)\n",
    "                    \n",
    "\n",
    "    \n",
    "    def plot_dendrogram(self):\n",
    "        \"\"\"\n",
    "        Try to visualize our data\n",
    "        \"\"\"\n",
    "        pass"
   ]
  },
  {
   "cell_type": "markdown",
   "metadata": {},
   "source": [
    "Сначала проверим реализованный алгоритм кластеризации на классическом наборе данных [Iris](http://www.wikiwand.com/en/Iris_flower_data_set). Загрузим данные (они включены в библиотеку sklearn) и посмотрим на то, как они выглядят в двух проекциях (для простоты используем 2 класса из 3)."
   ]
  },
  {
   "cell_type": "code",
   "execution_count": 5,
   "metadata": {},
   "outputs": [
    {
     "data": {
      "image/png": "[encoded data removed]",
      "text/plain": [
       "<Figure size 720x360 with 2 Axes>"
      ]
     },
     "metadata": {},
     "output_type": "display_data"
    }
   ],
   "source": [
    "iris = ds.load_iris()\n",
    "x_iris = iris.data[:100]\n",
    "y_iris = iris.target[:100]\n",
    "\n",
    "pl.figure(figsize=(10, 5))\n",
    "\n",
    "pl.subplot(1, 2, 1)\n",
    "pl.scatter(x_iris[:, 0], x_iris[:, 1], c=y_iris, cmap=pl.cm.PuOr, lw=0, s=30)\n",
    "plt.xlabel('Sepal length')\n",
    "plt.ylabel('Sepal width')\n",
    "\n",
    "pl.subplot(1, 2, 2)\n",
    "pl.scatter(x_iris[:, 2], x_iris[:, 3], c=y_iris, cmap=pl.cm.PuOr, lw=0, s=30)\n",
    "plt.xlabel('Petal length')\n",
    "plt.ylabel('Petal width')\n",
    "pl.show()"
   ]
  },
  {
   "cell_type": "markdown",
   "metadata": {},
   "source": [
    "Видно, что классы разделяются, поэтому можно надеяться, что наш алгоритм \"найдет\" кластеры, соответствующие исходным классам. Результат работы реализованного алгоритма кластеризации предлагается сравнить с эталонной кластеризацией. Для этого предлагается изучить метрику ([adjusted rand score](http://scikit-learn.org/stable/modules/generated/sklearn.metrics.adjusted_rand_score.html)). В случае если значение этой метрики отличается от 1, предлагается поработать над улучшением реализации своего алгоритма."
   ]
  },
  {
   "cell_type": "code",
   "execution_count": 194,
   "metadata": {},
   "outputs": [
    {
     "name": "stdout",
     "output_type": "stream",
     "text": [
      " Sklearn AGGL score 1.0. Sklearn AGGL time 0.09037017822265625\n"
     ]
    }
   ],
   "source": [
    "# Давайте проверим, как справляются sklearn реализации\n",
    "sklearn_aggl = AgglomerativeClustering(n_clusters=2)\n",
    "aggl_t0 = time.time()\n",
    "aggl_pred = sklearn_aggl.fit_predict(x_iris)\n",
    "aggl_diff = time.time() - aggl_t0\n",
    "aggl_score = smt.adjusted_rand_score(y_iris, aggl_pred)\n",
    "print (\" Sklearn AGGL score {}. Sklearn AGGL time {}\".format(aggl_score, aggl_diff))"
   ]
  },
  {
   "cell_type": "code",
   "execution_count": 343,
   "metadata": {},
   "outputs": [
    {
     "name": "stdout",
     "output_type": "stream",
     "text": [
      "Our AGGL score 1.0. Our AGGL time 3.4958808422088623\n"
     ]
    }
   ],
   "source": [
    "# Здесь предскажем кластера, посчитаем метрику кластеризации и время работы, сравним со склерном\n",
    "сustum_aggl = Clustering(n_clusters=2, metric='complete') # , metric='single' # metric='centroid'\n",
    "aggl_t0 = time.time()\n",
    "aggl_pred = сustum_aggl.fit_predict(x_iris)\n",
    "aggl_diff = time.time() - aggl_t0\n",
    "aggl_score = smt.adjusted_rand_score(y_iris, aggl_pred)\n",
    "print (\"Our AGGL score {}. Our AGGL time {}\".format(aggl_score, aggl_diff))"
   ]
  },
  {
   "cell_type": "code",
   "execution_count": null,
   "metadata": {},
   "outputs": [],
   "source": [
    "### Единичный скор получается на любой из трех реализованных метрик"
   ]
  },
  {
   "cell_type": "code",
   "execution_count": 364,
   "metadata": {},
   "outputs": [],
   "source": [
    "cluster_1 = Clustering(n_clusters=1, metric='complete')\n",
    "aggl_pred = cluster_1.fit_predict(x_iris)\n",
    "#aggl_score = smt.adjusted_rand_score(y_iris, aggl_pred)\n",
    "#print (\"Our AGGL score {}. Our AGGL time {}\".format(aggl_score, aggl_diff))"
   ]
  },
  {
   "cell_type": "code",
   "execution_count": 365,
   "metadata": {},
   "outputs": [],
   "source": [
    "len(cluster_1.clusters_list) \n",
    "draw_list = sorted(cluster_1.clusters_list, key=lambda x: x[3])"
   ]
  },
  {
   "cell_type": "code",
   "execution_count": 366,
   "metadata": {
    "collapsed": true
   },
   "outputs": [
    {
     "data": {
      "text/plain": [
       "[(7, 39, 4.189272013130682, 2, 100),\n",
       " (0, 17, 4.244997055358226, 2, 101),\n",
       " (9, 34, 4.249705872175156, 2, 102),\n",
       " (10, 48, 4.117037770047782, 2, 103),\n",
       " (4, 37, 4.37264222181509, 2, 104),\n",
       " (19, 21, 4.172529209005013, 2, 105),\n",
       " (29, 30, 4.224926034855521, 2, 106),\n",
       " (57, 93, 2.9291637031753615, 2, 107),\n",
       " (80, 81, 3.3015148038438356, 2, 108),\n",
       " (8, 38, 4.60760241340331, 2, 109),\n",
       " (3, 47, 4.433959855479072, 2, 110),\n",
       " (27, 28, 4.197618372363071, 2, 111),\n",
       " (82, 92, 3.5270384177096803, 2, 112),\n",
       " (95, 96, 3.6262928728937496, 2, 113),\n",
       " (1, 45, 4.304648650006177, 2, 114),\n",
       " (63, 91, 4.230839160261235, 2, 115),\n",
       " (65, 75, 4.283689998120779, 2, 116),\n",
       " (94, 99, 3.6414282912066254, 2, 119),\n",
       " (66, 84, 3.911521443121589, 2, 121),\n",
       " (23, 26, 4.03732584763727, 2, 122),\n",
       " (53, 89, 3.5651086939951777, 2, 125),\n",
       " (74, 97, 4.012480529547776, 2, 126),\n",
       " (54, 58, 4.369210454990695, 2, 127),\n",
       " (68, 87, 4.296510211788168, 2, 131),\n",
       " (50, 52, 4.813522618623496, 2, 135),\n",
       " (51, 56, 4.39317652729776, 2, 136),\n",
       " (20, 31, 3.9736632972611057, 2, 138),\n",
       " (11, 24, 4.192851058647325, 2, 139),\n",
       " (55, 90, 3.9127995093027708, 2, 143),\n",
       " (5, 18, 3.883297567789519, 2, 144),\n",
       " (32, 33, 4.274342054632502, 2, 149),\n",
       " (61, 71, 3.758989225842501, 2, 156),\n",
       " (70, 85, 4.379497688091638, 2, 158),\n",
       " (72, 83, 4.641120554348918, 2, 159),\n",
       " (64, 79, 3.07571129984594, 2, 162),\n",
       " (14, 15, 4.347413023856831, 2, 170),\n",
       " (40, 101, 4.334743360338649, 3, 117),\n",
       " (49, 100, 4.264973622427225, 3, 118),\n",
       " (88, 113, 3.6262928728937496, 3, 120),\n",
       " (25, 102, 4.249705872175156, 3, 123),\n",
       " (12, 114, 4.3737855457258075, 3, 124),\n",
       " (46, 105, 4.172529209005013, 3, 128),\n",
       " (78, 115, 4.230839160261235, 3, 129),\n",
       " (2, 110, 4.469899327725402, 3, 130),\n",
       " (69, 108, 3.3808283008753937, 3, 132),\n",
       " (43, 122, 4.03732584763727, 3, 134),\n",
       " (67, 112, 3.535533905932737, 3, 137),\n",
       " (86, 135, 4.813522618623496, 3, 146),\n",
       " (13, 109, 4.850773134253961, 3, 148),\n",
       " (36, 103, 4.198809355043403, 3, 150),\n",
       " (76, 127, 4.655104724922952, 3, 152),\n",
       " (98, 107, 2.9291637031753615, 3, 154),\n",
       " (16, 149, 4.274342054632502, 3, 163),\n",
       " (62, 131, 4.296510211788168, 3, 182),\n",
       " (42, 130, 4.6119410230400835, 4, 140),\n",
       " (73, 129, 4.230839160261235, 4, 155),\n",
       " (44, 128, 4.172529209005013, 4, 157),\n",
       " (121, 143, 3.912799509302771, 4, 167),\n",
       " (77, 146, 4.850773134253961, 4, 171),\n",
       " (136, 158, 4.39317652729776, 4, 177),\n",
       " (60, 154, 3.257299494980466, 4, 181),\n",
       " (6, 140, 4.6119410230400835, 5, 145),\n",
       " (119, 120, 3.6414282912066254, 5, 147),\n",
       " (138, 150, 4.198809355043403, 5, 160),\n",
       " (125, 132, 3.5651086939951777, 5, 161),\n",
       " (116, 152, 4.655104724922952, 5, 166),\n",
       " (134, 139, 4.192851058647324, 5, 169),\n",
       " (163, 170, 4.347413023856831, 5, 180),\n",
       " (117, 118, 4.334743360338649, 6, 133),\n",
       " (123, 124, 4.3737855457258075, 6, 141),\n",
       " (126, 155, 4.230839160261235, 6, 168),\n",
       " (59, 161, 3.5651086939951777, 6, 175),\n",
       " (159, 177, 4.641120554348918, 6, 187),\n",
       " (144, 160, 4.198809355043403, 7, 173),\n",
       " (111, 133, 4.334743360338649, 8, 142),\n",
       " (106, 141, 4.3737855457258075, 8, 151),\n",
       " (137, 147, 3.6414282912066254, 8, 165),\n",
       " (145, 148, 4.850773134253961, 8, 174),\n",
       " (162, 175, 3.565108693995178, 8, 183),\n",
       " (157, 169, 4.192851058647324, 9, 176),\n",
       " (166, 171, 4.850773134253961, 9, 179),\n",
       " (22, 174, 4.850773134253961, 9, 184),\n",
       " (104, 142, 4.37264222181509, 10, 153),\n",
       " (156, 165, 3.758989225842501, 10, 172),\n",
       " (35, 153, 4.4294469180700204, 11, 164),\n",
       " (181, 183, 3.565108693995178, 12, 190),\n",
       " (179, 187, 4.850773134253961, 15, 191),\n",
       " (168, 172, 4.230839160261235, 16, 185),\n",
       " (173, 176, 4.198809355043403, 16, 186),\n",
       " (151, 164, 4.4294469180700204, 19, 178),\n",
       " (167, 185, 4.230839160261235, 20, 188),\n",
       " (180, 186, 4.347413023856831, 21, 194),\n",
       " (182, 188, 4.296510211788169, 23, 192),\n",
       " (178, 184, 4.850773134253961, 28, 189),\n",
       " (41, 189, 4.850773134253961, 29, 193),\n",
       " (191, 192, 4.850773134253961, 38, 195),\n",
       " (193, 194, 4.850773134253961, 50, 196),\n",
       " (190, 195, 4.850773134253961, 50, 197),\n",
       " (196, 197, 4.850773134253961, 100, 198)]"
      ]
     },
     "execution_count": 366,
     "metadata": {},
     "output_type": "execute_result"
    }
   ],
   "source": [
    "# список для построения дендрограмм - посмотрим глазами\n",
    "draw_list"
   ]
  },
  {
   "cell_type": "code",
   "execution_count": 367,
   "metadata": {
    "collapsed": true
   },
   "outputs": [
    {
     "name": "stdout",
     "output_type": "stream",
     "text": [
      "100 50 50 1.6401219466856727 Depth 11\n",
      "50 29 21 0.22360679774997858 Depth 10\n",
      "50 12 38 0.2645751311064592 Depth 10\n",
      "29 1 28 0.6244997998398398 Depth 9\n",
      "21 5 16 0.3464101615137753 Depth 6\n",
      "12 4 8 0.6480740698407862 Depth 6\n",
      "38 15 23 0.2645751311064587 Depth 9\n",
      "28 19 9 0.17320508075688812 Depth 8\n",
      "5 3 2 0.3605551275463992 Depth 3\n",
      "16 7 9 0.2449489742783178 Depth 5\n",
      "4 1 3 0.3605551275463989 Depth 3\n",
      "8 2 6 0.3464101615137758 Depth 5\n",
      "15 9 6 0.31622776601683755 Depth 5\n",
      "23 3 20 0.4898979485566356 Depth 8\n",
      "19 8 11 0.24494897427831747 Depth 7\n",
      "9 1 8 0.45825756949558394 Depth 6\n",
      "3 1 2 0.3872983346207418 Depth 2\n",
      "2 1 1 0.5477225575051664 Depth 1\n",
      "7 2 5 0.3464101615137753 Depth 4\n",
      "9 4 5 0.31622776601683794 Depth 4\n",
      "3 1 2 0.3872983346207412 Depth 2\n",
      "2 1 1 0.44721359549995804 Depth 1\n",
      "6 1 5 0.38729833462074165 Depth 4\n",
      "9 5 4 0.31622776601683783 Depth 4\n",
      "6 2 4 0.6244997998398397 Depth 3\n",
      "3 1 2 0.5916079783099617 Depth 2\n",
      "20 4 16 0.26457513110645914 Depth 7\n",
      "8 2 6 0.14142135623730995 Depth 4\n",
      "11 1 10 0.22360679774997877 Depth 6\n",
      "8 5 3 0.20000000000000018 Depth 5\n",
      "2 1 1 0.3464101615137755 Depth 1\n",
      "2 1 1 0.33166247903553986 Depth 1\n",
      "5 2 3 0.31622776601683783 Depth 3\n",
      "4 1 3 0.3605551275463988 Depth 3\n",
      "5 3 2 0.2828427124746191 Depth 3\n",
      "2 1 1 0.1414213562373093 Depth 1\n",
      "5 2 3 0.24494897427831766 Depth 3\n",
      "5 2 3 0.24494897427831722 Depth 3\n",
      "4 1 3 0.31622776601683794 Depth 3\n",
      "2 1 1 0.4242640687119282 Depth 1\n",
      "4 2 2 0.3741657386773941 Depth 2\n",
      "2 1 1 0.26457513110645864 Depth 1\n",
      "4 2 2 0.30000000000000027 Depth 2\n",
      "16 6 10 0.33166247903553975 Depth 6\n",
      "2 1 1 0.1414213562373093 Depth 1\n",
      "6 3 3 0.14142135623730964 Depth 3\n",
      "10 2 8 0.1414213562373093 Depth 5\n",
      "5 1 4 0.22360679774997871 Depth 4\n",
      "3 1 2 0.244948974278318 Depth 2\n",
      "2 1 1 0.282842712474619 Depth 1\n",
      "3 1 2 0.3 Depth 2\n",
      "3 1 2 0.14142135623730953 Depth 2\n",
      "3 1 2 0.22360679774997896 Depth 2\n",
      "2 1 1 0.2999999999999998 Depth 1\n",
      "2 1 1 0.20000000000000018 Depth 1\n",
      "3 1 2 0.17320508075688762 Depth 2\n",
      "2 1 1 0.14142135623730995 Depth 1\n",
      "3 1 2 0.31622776601683816 Depth 2\n",
      "3 1 2 0.2828427124746193 Depth 2\n",
      "2 1 1 0.2645751311064593 Depth 1\n",
      "2 1 1 0.4242640687119282 Depth 1\n",
      "2 1 1 0.1999999999999993 Depth 1\n",
      "2 1 1 0.3162277660168378 Depth 1\n",
      "6 2 4 0.34641016151377546 Depth 4\n",
      "10 2 8 0.3000000000000001 Depth 5\n",
      "3 1 2 0.17320508075688762 Depth 2\n",
      "3 1 2 0.1414213562373099 Depth 2\n",
      "2 1 1 0.14142135623730925 Depth 1\n",
      "8 2 6 0.14142135623730995 Depth 4\n",
      "4 1 3 0.22360679774997827 Depth 3\n",
      "2 1 1 0.14142135623730948 Depth 1\n",
      "2 1 1 0.10000000000000053 Depth 1\n",
      "2 1 1 0.14142135623730928 Depth 1\n",
      "2 1 1 0.1999999999999998 Depth 1\n",
      "2 1 1 0.1414213562373093 Depth 1\n",
      "2 1 1 0.24494897427831766 Depth 1\n",
      "2 1 1 0.26457513110645914 Depth 1\n",
      "2 1 1 0.20000000000000018 Depth 1\n",
      "4 1 3 0.22360679774997896 Depth 3\n",
      "2 1 1 0.3999999999999998 Depth 1\n",
      "8 3 5 0.26457513110645864 Depth 4\n",
      "2 1 1 0.1 Depth 1\n",
      "2 1 1 0.14142135623730986 Depth 1\n",
      "2 1 1 0.14142135623730964 Depth 1\n",
      "6 3 3 0.14142135623730964 Depth 3\n",
      "3 1 2 0.14142135623730978 Depth 2\n",
      "3 1 2 0.19999999999999973 Depth 2\n",
      "3 1 2 0.24494897427831766 Depth 2\n",
      "5 2 3 0.14142135623730995 Depth 3\n",
      "3 1 2 0.14142135623730917 Depth 2\n",
      "3 1 2 0.14142135623730964 Depth 2\n",
      "2 1 1 0.14142135623730964 Depth 1\n",
      "2 1 1 0.14142135623730995 Depth 1\n",
      "2 1 1 0.14142135623730964 Depth 1\n",
      "2 1 1 0.17320508075688815 Depth 1\n",
      "3 1 2 0.1732050807568884 Depth 2\n",
      "2 1 1 0.09999999999999998 Depth 1\n",
      "2 1 1 0.09999999999999964 Depth 1\n",
      "2 1 1 0.14142135623730964 Depth 1\n"
     ]
    }
   ],
   "source": [
    "cluster_1.printTree(cluster_1.clusters[0]);"
   ]
  },
  {
   "cell_type": "code",
   "execution_count": 368,
   "metadata": {},
   "outputs": [
    {
     "data": {
      "text/plain": [
       "(100,\n",
       " array([41, 60, 22, 16, 14, 15, 98, 64, 79, 59, 62, 35, 32, 33,  5, 18, 44,\n",
       "        57, 93, 77, 72, 83, 68, 87, 29, 30,  6, 13, 20, 31, 36, 46, 43, 11,\n",
       "        24, 53, 89, 69, 65, 75, 76, 86, 51, 56, 70, 85, 66, 84, 55, 90, 25,\n",
       "        12,  4, 37, 42,  8, 38, 10, 48, 19, 21, 23, 26, 80, 81, 54, 58, 50,\n",
       "        52, 74, 97, 73, 61, 71,  9, 34,  1, 45, 27, 28,  2, 78, 67, 40, 49,\n",
       "         3, 47, 63, 91, 82, 92, 94, 99, 88,  0, 17,  7, 39, 95, 96]))"
      ]
     },
     "execution_count": 368,
     "metadata": {},
     "output_type": "execute_result"
    }
   ],
   "source": [
    "level = 0\n",
    "points = []\n",
    "for cl in cluster_1.treedict[level]:\n",
    "    # print(cl.point_number)\n",
    "    points.append(cl.point_number)\n",
    "points_arr = np.array(points)\n",
    "\n",
    "len(points_arr), points_arr"
   ]
  },
  {
   "cell_type": "code",
   "execution_count": 369,
   "metadata": {},
   "outputs": [],
   "source": [
    "X_coords = {}\n",
    "for pos, cln in enumerate(points_arr):\n",
    "    X_coords[cln] = (pos, 0)"
   ]
  },
  {
   "cell_type": "code",
   "execution_count": 370,
   "metadata": {},
   "outputs": [
    {
     "data": {
      "image/png": "[encoded data removed]",
      "text/plain": [
       "<Figure size 1440x1440 with 1 Axes>"
      ]
     },
     "metadata": {},
     "output_type": "display_data"
    }
   ],
   "source": [
    "# построим дендрограмму дерева\n",
    "\n",
    "plt.figure(figsize=(20, 20))\n",
    "for item in draw_list:\n",
    "    x1, y1 = X_coords[item[0]]\n",
    "    x2, y2 = X_coords[item[1]]\n",
    "    _dist = item[2]\n",
    "    numitems = item[3]\n",
    "    new_cl = item[4]\n",
    "    \n",
    "    new_x = (x1 + x2) / 2\n",
    "    new_y = numitems # _dist # numitems\n",
    "    \n",
    "    X_coords[new_cl] = (new_x, new_y)\n",
    "    plt.scatter(x1, y1, color='blue')\n",
    "    plt.scatter(x2, y2, color='blue')\n",
    "    plt.scatter(new_x, new_y, color='blue')\n",
    "    \n",
    "    plt.plot([x1, x1], [y1, new_y], color='blue')\n",
    "    plt.plot([x2, x2], [y2, new_y], color='blue')\n",
    "    \n",
    "    plt.plot([x1, x2], [new_y, new_y], color='blue')"
   ]
  },
  {
   "cell_type": "code",
   "execution_count": null,
   "metadata": {},
   "outputs": [],
   "source": [
    "# что-то с дендрограммой не то - либо нарушены условия монотонности в алгоритме кластеризации, либо некорректная отриосвка"
   ]
  },
  {
   "cell_type": "code",
   "execution_count": 212,
   "metadata": {
    "collapsed": true
   },
   "outputs": [
    {
     "name": "stdout",
     "output_type": "stream",
     "text": [
      "50 1 49 0.6244997998398398 Depth 24\n",
      "49 1 48 0.45825756949558394 Depth 23\n",
      "48 1 47 0.412310562561766 Depth 22\n",
      "47 1 46 0.3605551275463992 Depth 21\n",
      "46 1 45 0.3605551275463988 Depth 20\n",
      "45 43 2 0.3464101615137755 Depth 19\n",
      "43 2 41 0.3464101615137753 Depth 18\n",
      "2 1 1 0.3464101615137755 Depth 1\n",
      "2 1 1 0.33166247903553986 Depth 1\n",
      "41 1 40 0.3464101615137753 Depth 17\n",
      "40 2 38 0.3000000000000001 Depth 16\n",
      "2 1 1 0.282842712474619 Depth 1\n",
      "38 1 37 0.3 Depth 15\n",
      "37 1 36 0.2999999999999998 Depth 14\n",
      "36 1 35 0.244948974278318 Depth 13\n",
      "35 3 32 0.2449489742783178 Depth 12\n",
      "3 1 2 0.14142135623730953 Depth 2\n",
      "32 16 16 0.22360679774997916 Depth 11\n",
      "2 1 1 0.14142135623730928 Depth 1\n",
      "16 1 15 0.22360679774997871 Depth 10\n",
      "16 3 13 0.22360679774997902 Depth 8\n",
      "15 1 14 0.22360679774997858 Depth 9\n",
      "3 1 2 0.22360679774997896 Depth 2\n",
      "13 2 11 0.22360679774997896 Depth 7\n",
      "14 11 3 0.22360679774997827 Depth 8\n",
      "2 1 1 0.1999999999999998 Depth 1\n",
      "2 1 1 0.10000000000000053 Depth 1\n",
      "11 1 10 0.22360679774997877 Depth 6\n",
      "11 3 8 0.17320508075688812 Depth 7\n",
      "3 1 2 0.20000000000000018 Depth 2\n",
      "10 2 8 0.14142135623730995 Depth 5\n",
      "3 1 2 0.14142135623730978 Depth 2\n",
      "8 1 7 0.17320508075688762 Depth 6\n",
      "2 1 1 0.14142135623730948 Depth 1\n",
      "2 1 1 0.14142135623730964 Depth 1\n",
      "8 5 3 0.14142135623730964 Depth 4\n",
      "2 1 1 0.14142135623730964 Depth 1\n",
      "7 2 5 0.14142135623730995 Depth 5\n",
      "5 3 2 0.1414213562373093 Depth 3\n",
      "3 1 2 0.14142135623730964 Depth 2\n",
      "2 1 1 0.1414213562373093 Depth 1\n",
      "5 1 4 0.1414213562373099 Depth 4\n",
      "3 1 2 0.14142135623730917 Depth 2\n",
      "2 1 1 0.14142135623730925 Depth 1\n",
      "2 1 1 0.09999999999999964 Depth 1\n",
      "4 1 3 0.14142135623730986 Depth 3\n",
      "2 1 1 0.09999999999999998 Depth 1\n",
      "3 1 2 0.14142135623730964 Depth 2\n",
      "2 1 1 0.1 Depth 1\n"
     ]
    }
   ],
   "source": [
    "сustum_aggl.printTree2(сustum_aggl.clusters[0])"
   ]
  },
  {
   "cell_type": "code",
   "execution_count": 161,
   "metadata": {
    "collapsed": true
   },
   "outputs": [
    {
     "data": {
      "text/plain": [
       "[0,\n",
       " 1,\n",
       " 2,\n",
       " 3,\n",
       " 4,\n",
       " 5,\n",
       " 6,\n",
       " 7,\n",
       " 8,\n",
       " 9,\n",
       " 10,\n",
       " 11,\n",
       " 12,\n",
       " 13,\n",
       " 14,\n",
       " 15,\n",
       " 16,\n",
       " 17,\n",
       " 18,\n",
       " 19,\n",
       " 20,\n",
       " 21,\n",
       " 22,\n",
       " 23,\n",
       " 24,\n",
       " 25,\n",
       " 26,\n",
       " 27,\n",
       " 28,\n",
       " 29,\n",
       " 30,\n",
       " 31,\n",
       " 32,\n",
       " 33,\n",
       " 34,\n",
       " 35,\n",
       " 36,\n",
       " 37,\n",
       " 38,\n",
       " 39,\n",
       " 40,\n",
       " 41,\n",
       " 42,\n",
       " 43,\n",
       " 44,\n",
       " 45,\n",
       " 46,\n",
       " 47,\n",
       " 48,\n",
       " 49]"
      ]
     },
     "execution_count": 161,
     "metadata": {},
     "output_type": "execute_result"
    }
   ],
   "source": [
    "points = []\n",
    "for cl in сustum_aggl.treedict[0]:\n",
    "    # print(cl.point_number)\n",
    "    points.append(cl.point_number)\n",
    "sorted(points)"
   ]
  },
  {
   "cell_type": "code",
   "execution_count": 175,
   "metadata": {
    "collapsed": true
   },
   "outputs": [
    {
     "name": "stdout",
     "output_type": "stream",
     "text": [
      "32 33\n",
      "5 18\n",
      "20 31\n",
      "19 21\n",
      "23 26\n",
      "10 48\n",
      "8 38\n",
      "27 28\n",
      "3 47\n",
      "29 30\n",
      "4 37\n",
      "7 39\n",
      "0 17\n",
      "9 34\n"
     ]
    }
   ],
   "source": [
    "for cl in сustum_aggl.treedict[1]:\n",
    "    print(cl.left.point_number, cl.right.point_number)"
   ]
  },
  {
   "cell_type": "code",
   "execution_count": null,
   "metadata": {},
   "outputs": [],
   "source": [
    "def unroll(сustum_aggl, level=0):\n",
    "    cl = сustum_aggl.treedict[level]\n",
    "    l, r = cl.left.point_number, cl.right.point_number\n",
    "    if cl != -1:\n",
    "        сustum_aggl"
   ]
  },
  {
   "cell_type": "code",
   "execution_count": 156,
   "metadata": {},
   "outputs": [
    {
     "data": {
      "text/plain": [
       "dict_keys([24, 0, 23, 22, 21, 20, 19, 18, 1, 17, 16, 15, 14, 13, 12, 2, 11, 10, 8, 9, 7, 6, 5, 4, 3])"
      ]
     },
     "execution_count": 156,
     "metadata": {},
     "output_type": "execute_result"
    }
   ],
   "source": [
    "сustum_aggl.treedict.keys()"
   ]
  },
  {
   "cell_type": "code",
   "execution_count": 152,
   "metadata": {},
   "outputs": [
    {
     "data": {
      "image/png": "[encoded data removed]",
      "text/plain": [
       "<Figure size 1440x360 with 1 Axes>"
      ]
     },
     "metadata": {},
     "output_type": "display_data"
    }
   ],
   "source": [
    "# насторойка тикера для дендрограмма - добавить\n",
    "\n",
    "from matplotlib.ticker import FuncFormatter\n",
    "import matplotlib.ticker as ticker\n",
    "\n",
    "@ticker.FuncFormatter\n",
    "def my_formatter(x, pos):\n",
    "#     print (x, pos)\n",
    "#     return pos\n",
    "    _pos = int(x)\n",
    "\n",
    "    if ((_pos < len(points)) & (_pos >=0)):\n",
    "        #print(_pos, points[_pos])\n",
    "        return points[(int(_pos))]\n",
    "    else:\n",
    "        #print(_pos)\n",
    "        return ''\n",
    "\n",
    "# Первый (нулевой) ряд\n",
    "level = 0\n",
    "points = []\n",
    "for cl in сustum_aggl.treedict[level]:\n",
    "    # print(cl.point_number)\n",
    "    points.append(cl.point_number)\n",
    "points_arr = np.array(points)\n",
    "\n",
    "fig = plt.figure(figsize=(20, 5))\n",
    "ax = fig.add_subplot(1, 1, 1)\n",
    "\n",
    "ax.xaxis.set_major_formatter(my_formatter)\n",
    "ax.xaxis.set_major_locator(ticker.MultipleLocator(1))\n",
    "ax.set_ylim(bottom=-1, top=50)\n",
    "### ax.xaxis.set_minor_formatter(my_formatter)\n",
    "ax.scatter(np.array(range(len(points_arr))), np.ones_like(points_arr) * level * 1, color='blue') \n",
    "\n",
    "\n",
    "# Попробуем нарисовать второй\n",
    "level = 1\n",
    "points_arr_prev = points_arr.copy()\n",
    "for cl in сustum_aggl.treedict[1]:\n",
    "    _litem, _ritem = cl.left.point_number, cl.right.point_number\n",
    "    _lpos = np.argwhere(points_arr_prev == _litem)\n",
    "    _rpos = np.argwhere(points_arr_prev == _ritem)\n",
    "    # print(_lpos.flatten(), _rpos.flatten())\n",
    "    ax.scatter(_lpos, level * 5, color='blue')\n",
    "    ax.scatter(_rpos, level * 5, color='blue')\n",
    "    ax.plot(np.concatenate([_lpos.flatten(), _rpos.flatten()]), np.ones([2]) * level * 5, color='blue')\n",
    "\n",
    "\n",
    "# вычислить новые центры  "
   ]
  },
  {
   "cell_type": "markdown",
   "metadata": {
    "collapsed": true
   },
   "source": [
    "# Боевое применение (3  балла)\n"
   ]
  },
  {
   "cell_type": "markdown",
   "metadata": {
    "collapsed": true
   },
   "source": [
    "Алгоритмы кластеризации прекрасны тем, что они позволяют быстро понять, как устроены наши данные. Давайте применим Ваш алгоритм для нашего конкурса!"
   ]
  },
  {
   "cell_type": "markdown",
   "metadata": {},
   "source": [
    "Будем рассматривать каждую группу независимо от других групп. На каждой группе применим наш алгоритм и отрисуем денденограмму. По результатам кластерного анализа, Вам нужно ответить на следующие вопросы:\n",
    "\n",
    "1) Можно ли по дендонаграмме (или по другим результатам кластеризации) сказать, где в группе аномалии? Каким образом?\n",
    "\n",
    "2) Какое расстояние лучше использовать между заголовками страниц для кластеризации? Как еще учесть другую информацию о странице в расстоянии?\n",
    "\n",
    "2) Какое качество f1_score Вы смогли получить на обучающем множестве методами кластеризации? (валидацию можете не делать, если таргет не используете)\n",
    "\n",
    "4) Как можно результат кластеризации затем использовать для  финальной модели обучения с учителем?"
   ]
  },
  {
   "cell_type": "markdown",
   "metadata": {},
   "source": [
    "Подсказка: самое важное - выбрать расстояние между заголовками. Самый простой вариант:  процент различных слов в двух заголовках. В семинаре мы рассматривали более сложный вариант, но Вы сможете придумать лучше. "
   ]
  },
  {
   "cell_type": "code",
   "execution_count": 3,
   "metadata": {},
   "outputs": [
    {
     "name": "stdout",
     "output_type": "stream",
     "text": [
      "28026\n"
     ]
    }
   ],
   "source": [
    "doc_to_title = {}\n",
    "with open('docs_titles.tsv') as f:\n",
    "    for num_line, line in enumerate(f):\n",
    "        if num_line == 0:\n",
    "            continue\n",
    "        data = line.strip().split('\\t', 1)\n",
    "        doc_id = int(data[0])\n",
    "        if len(data) == 1:\n",
    "            title = ''\n",
    "        else:\n",
    "            title = data[1]\n",
    "        doc_to_title[doc_id] = title\n",
    "print(len(doc_to_title))"
   ]
  },
  {
   "cell_type": "code",
   "execution_count": 4,
   "metadata": {},
   "outputs": [],
   "source": [
    "import pandas as pd"
   ]
  },
  {
   "cell_type": "code",
   "execution_count": 5,
   "metadata": {},
   "outputs": [],
   "source": [
    "train_data = pd.read_csv('train_groups.csv')\n",
    "traingroups_titledata = {}\n",
    "for i in range(len(train_data)):\n",
    "    new_doc = train_data.iloc[i]\n",
    "    doc_group = new_doc['group_id']\n",
    "    doc_id = new_doc['doc_id']\n",
    "    target = new_doc['target']\n",
    "    title = doc_to_title[doc_id]\n",
    "    if doc_group not in traingroups_titledata:\n",
    "        traingroups_titledata[doc_group] = []\n",
    "    traingroups_titledata[doc_group].append((doc_id, title, target))"
   ]
  },
  {
   "cell_type": "markdown",
   "metadata": {},
   "source": [
    "Кластеризацию проводите в каждой группе отдельно, то есть изучайте, можно ли в группе  найти подкластер выбросов\n",
    "\n",
    "Документы можно представлять например словами из тайтла\n",
    "\n",
    "Главное подобрать хорошую функцию расстояния между документами\n",
    "\n",
    "Удачи! Все получится!"
   ]
  },
  {
   "cell_type": "markdown",
   "metadata": {},
   "source": [
    "Замечание: в кластеризации можно использовать все данные, то есть трейн + тест, чтобы находить больше закономерностей "
   ]
  },
  {
   "cell_type": "code",
   "execution_count": 6,
   "metadata": {},
   "outputs": [],
   "source": [
    "# Место для Вашего кластерного анализа"
   ]
  },
  {
   "cell_type": "code",
   "execution_count": 7,
   "metadata": {},
   "outputs": [],
   "source": [
    "# поделим на группы\n",
    "from collections import defaultdict\n",
    "\n",
    "collections = []\n",
    "for g in train_data.group_id.unique():\n",
    "    titles = defaultdict(list)\n",
    "    _df = train_data[train_data.group_id == g]\n",
    "    for v in list(_df.doc_id.values):\n",
    "        titles[v] = doc_to_title[v]\n",
    "    collections.append((g, titles))"
   ]
  },
  {
   "cell_type": "code",
   "execution_count": 8,
   "metadata": {},
   "outputs": [],
   "source": [
    "# сделаем несложную лемматизацию слов из заголовков\n",
    "import nltk\n",
    "from nltk.corpus import stopwords\n",
    "from pymystem3 import Mystem\n",
    "m = Mystem()\n",
    "import re\n",
    "\n",
    "russian_stopwords = stopwords.words(\"russian\")"
   ]
  },
  {
   "cell_type": "code",
   "execution_count": 9,
   "metadata": {},
   "outputs": [],
   "source": [
    "def tokenize(doc):\n",
    "    tokens = nltk.tokenize.word_tokenize(doc)\n",
    "    tokens_filt = []\n",
    "    for t in tokens:\n",
    "\n",
    "        # пока будем удалять токены с английскими буквами\n",
    "        t = re.sub('[^А-Яа-я-\\\\n\\\\t]+', '', t)\n",
    "        t = re.sub('[\\\\t\\\\n\\\\s]+', ' ', t)\n",
    "        t = re.sub('[-]+', ' ', t)\n",
    "        \n",
    "        if t == ' ':\n",
    "            continue\n",
    "        if t == '':\n",
    "            continue\n",
    "        if t == '\\n':\n",
    "            continue\n",
    "        if t == '-':\n",
    "            continue\n",
    "        if t == '•':\n",
    "            continue\n",
    "        if t == '\\xa0':\n",
    "            continue\n",
    "            \n",
    "        t = t.strip()\n",
    "\n",
    "        t = t.replace('\\xa0', ' ').replace('.', '').replace(',', '').lower()\n",
    "        tlemm = m.lemmatize(t)\n",
    "        tokens_filt.append(''.join(tlemm).replace('\\n', ''))\n",
    "        \n",
    "    tokens_filt = [w for w in tokens_filt if w not in russian_stopwords]\n",
    "    return tokens_filt"
   ]
  },
  {
   "cell_type": "code",
   "execution_count": 10,
   "metadata": {},
   "outputs": [
    {
     "data": {
      "text/plain": [
       "['веселый', 'вася', 'банка', 'исчо', 'пара', 'слово', 'ваз']"
      ]
     },
     "execution_count": 10,
     "metadata": {},
     "output_type": "execute_result"
    }
   ],
   "source": [
    "tokenize('веселого Васю в банку,,,,   ... и исчо пару слов ВАЗ-2109')"
   ]
  },
  {
   "cell_type": "code",
   "execution_count": 194,
   "metadata": {},
   "outputs": [],
   "source": [
    "tkn_collections = []\n",
    "united_dict = defaultdict(int)\n",
    "\n",
    "for gid, corpus in collections:\n",
    "    _dct = defaultdict(list)\n",
    "    for k, v in corpus.items(): \n",
    "        terms = tokenize(v)\n",
    "        _dct[k] = terms\n",
    "        \n",
    "        for t in terms:\n",
    "            united_dict[t] += 1\n",
    "        \n",
    "    tkn_collections.append((gid, _dct))"
   ]
  },
  {
   "cell_type": "code",
   "execution_count": 200,
   "metadata": {},
   "outputs": [],
   "source": [
    "# построили общий словарь\n",
    "# возможно, есть смысл сделать отдельный словарь для каждой группы\n",
    "\n",
    "# теперь сделаем частотный one hot vector, чтобы можно было измерять расстояния между заголовками \n",
    "# потом попробуем еще пофильтровать по частым словам\n",
    "\n",
    "# прологарифмируем частоты\n",
    "for k, v in united_dict.items():\n",
    "    united_dict[k] = np.log(v)"
   ]
  },
  {
   "cell_type": "code",
   "execution_count": 201,
   "metadata": {},
   "outputs": [],
   "source": [
    "words = list(united_dict.keys())"
   ]
  },
  {
   "cell_type": "code",
   "execution_count": 202,
   "metadata": {},
   "outputs": [],
   "source": [
    "words_num_dict = {}\n",
    "for pos, w in enumerate(words):\n",
    "    words_num_dict[w] = pos "
   ]
  },
  {
   "cell_type": "code",
   "execution_count": 423,
   "metadata": {},
   "outputs": [],
   "source": [
    "vct_collections = []\n",
    "\n",
    "for gid, corpus in tkn_collections:\n",
    "    _dct = defaultdict(list)\n",
    "    for k, v in corpus.items(): \n",
    "        # print(len(corpus.items()))\n",
    "        terms = v\n",
    "        vector = np.zeros([len(united_dict)])\n",
    "        for t in terms:\n",
    "            # print(t)\n",
    "            if t in united_dict:\n",
    "                vector[words_num_dict[t]] = 1 # 1 # make one hot instead of freq # united_dict[t]\n",
    "        _dct[k] = vector\n",
    "    vct_collections.append((gid, _dct))\n",
    "    # print(vector)"
   ]
  },
  {
   "cell_type": "code",
   "execution_count": 436,
   "metadata": {},
   "outputs": [],
   "source": [
    "# померяем качество\n",
    "groups = train_data.group_id.unique()\n",
    "scores = []\n",
    "\n",
    "for gid in groups[:-1]:\n",
    "    rows = []\n",
    "    keys = []\n",
    "    for k, v in vct_collections[gid][1].items():\n",
    "        rows.append(v)\n",
    "        keys.append(k)\n",
    "    X_train = np.vstack(rows)\n",
    "\n",
    "    clf = AgglomerativeClustering(n_clusters=2, linkage=\"ward\", affinity='euclidean') # ward\n",
    "    pred = clf.fit_predict(X_train)\n",
    "    truth = train_data[train_data.apply(lambda x: (x.doc_id in keys) & (x.group_id == gid + 1), axis=1)].target.values\n",
    "    scores.append(f1_score(truth, pred, average='micro'))"
   ]
  },
  {
   "cell_type": "markdown",
   "metadata": {},
   "source": [
    "### F1-score (усреденный по группам)"
   ]
  },
  {
   "cell_type": "code",
   "execution_count": 437,
   "metadata": {},
   "outputs": [
    {
     "data": {
      "text/plain": [
       "0.6553531647508424"
      ]
     },
     "execution_count": 437,
     "metadata": {},
     "output_type": "execute_result"
    }
   ],
   "source": [
    "np.array(scores).mean()"
   ]
  },
  {
   "cell_type": "markdown",
   "metadata": {
    "collapsed": true
   },
   "source": [
    "Если получилось найти выбросы с помощью кластеризации, то не забывайте использовать его в финальном решении. Помните - использование различных подходов к решению задачи всегда улучшает финального качество."
   ]
  },
  {
   "cell_type": "markdown",
   "metadata": {},
   "source": [
    "# Контрольные вопросы\n",
    "Постарайтесь максимально развернуто и честно ответить на вопросы. Они охватывают тему алгоритмов кластеризации и скорее нужны преподавателям, чтобы понимать, что именно Вы усвоили плохо. Надеюсь, они подскажут, что именно в теме Вы не понимаете или наоборот порадают, что Вы все знаете ^_^"
   ]
  },
  {
   "cell_type": "markdown",
   "metadata": {},
   "source": [
    "* Опишите, пожалуйста, для каких прикладных задач Вы бы стали использовать методы кластеризации?"
   ]
  },
  {
   "cell_type": "markdown",
   "metadata": {},
   "source": [
    "***Ваш ответ здесь***\n",
    "\n",
    "Кластеризация подходит для всех задач (и, более того, незаменима), где необходимо найти структуру либо при отсутствии разметки по причине высокой стоимости, либо при отсутствии понимании структуры, т.е. когда её нужно сформировать на основе существующих данных - например, topic modeling для текстов, или поиск похожих профилей во временных рядах."
   ]
  },
  {
   "cell_type": "markdown",
   "metadata": {},
   "source": [
    "* Какие преимущества и недостатки Вы видите у следуюших алгоритмов кластеризации: kmeans, dbscan, агломеративная кластеризация?"
   ]
  },
  {
   "cell_type": "markdown",
   "metadata": {},
   "source": [
    "***Ваш ответ здесь***\n",
    "\n",
    "<b>k-means</b> зависит от инициализации - можно считать недостатком, если пространство не высокой размерности, то вполне интерпретируем, простота - еще одно достоинство.\n",
    "Но он бесполезен, когда кластеры линейно не разделимы (можно помочь kernel k-means, когда мы преобразуем пространство, в  котором осуществляем кластеризацию).\n",
    "\n",
    "<b>dbscan</b> - удобен там, где нужно найти \"плотные скопления\" в пространстве, справляется с этим лучше других алгоритмов. Но не работает, если плотность кластеров разная. \n",
    "\n",
    "<b>Агломеративная (т.е. иерархическая) кластеризация</b> - наличие полной структуры кластеров - преимущество, высокая вычислителная сложность - недостаток."
   ]
  },
  {
   "cell_type": "markdown",
   "metadata": {},
   "source": [
    "* На лекции было показано, что EM алгоритм находит оценку максимального правдоподобия в задаче со сккрытыми переменными. Из курса мат. статистики Вы можете знать, оценка максимального правдоподобия \"оптимальная\" во многих смыслах. В каких же случаях тогда не следует применять метод максимального правдоподобия?"
   ]
  },
  {
   "cell_type": "markdown",
   "metadata": {},
   "source": [
    "***Ваше ответ здесь***"
   ]
  },
  {
   "cell_type": "markdown",
   "metadata": {},
   "source": [
    "* Представьте, что у Вас есть набор текстовых документов, и Вы хотите разбить эти документы на тематики - новости, спорт, кулинария, кино и так далее. Размеченной выборки у Вас нет, только сами тексты документов. Какие алгоритмы и какие признаки Вы бы использовали для решения данной задачи?"
   ]
  },
  {
   "cell_type": "markdown",
   "metadata": {},
   "source": [
    "***Ваше ответ здесь***\n",
    " \n",
    "Признаки, построенные на частотности встречающихся в документах слов, как одиночных, так и частотных n-грамм (буквенные или словесные, смешанные - зависит от задачи), статистики по частям речи, соотношение слова в разных алфавитах, длина текста,  можно также попробовать word2vec, если существует релевантный w2vec для этого корпуска. Можно использовать LDA алгоритм для поиска тематик - недостаток - нужно самому подбирать количество тематик."
   ]
  },
  {
   "cell_type": "markdown",
   "metadata": {},
   "source": [
    "* Теперь представьте, что небольшая часть Ваших текстов была размечена людьми, но большая часть так и осталась без таргета. Смогли ли бы Вы использовать эти данные для улучения качества кластеризации? (эта задача называется semi-supervised learning)"
   ]
  },
  {
   "cell_type": "markdown",
   "metadata": {},
   "source": [
    "***Ваше ответ здесь***"
   ]
  },
  {
   "cell_type": "markdown",
   "metadata": {},
   "source": [
    "Здесь Вы можете оставить отзыв о этой домашней работе или о всем курсе.   "
   ]
  },
  {
   "cell_type": "markdown",
   "metadata": {},
   "source": [
    "*** ВАШ ОТЗЫВ ЗДЕСЬ***"
   ]
  },
  {
   "cell_type": "code",
   "execution_count": 11,
   "metadata": {},
   "outputs": [],
   "source": [
    "# Хотелось бы больше семинаров по темам математических основ ML."
   ]
  },
  {
   "cell_type": "code",
   "execution_count": 353,
   "metadata": {},
   "outputs": [
    {
     "data": {
      "text/plain": [
       "Text(0,0.5,'Кластерное расстояние')"
      ]
     },
     "execution_count": 353,
     "metadata": {},
     "output_type": "execute_result"
    },
    {
     "data": {
      "image/png": "[encoded data removed]",
      "text/plain": [
       "<Figure size 1440x1440 with 1 Axes>"
      ]
     },
     "metadata": {},
     "output_type": "display_data"
    }
   ],
   "source": [
    "linkage_array = ward(x_iris)\n",
    "dendrogram(linkage_array)\n",
    "# делаем отметки на дереве, соответствующие двум или трем кластерам\n",
    "\n",
    "ax = plt.gca()\n",
    "bounds = ax.get_xbound()\n",
    "\n",
    "plt.xlabel(\"Индекс наблюдения\")\n",
    "plt.ylabel(\"Кластерное расстояние\")"
   ]
  },
  {
   "cell_type": "code",
   "execution_count": null,
   "metadata": {},
   "outputs": [],
   "source": []
  }
 ],
 "metadata": {
  "anaconda-cloud": {},
  "kernelspec": {
   "display_name": "Python [conda env:pt1p36]",
   "language": "python",
   "name": "conda-env-pt1p36-py"
  },
  "language_info": {
   "codemirror_mode": {
    "name": "ipython",
    "version": 3
   },
   "file_extension": ".py",
   "mimetype": "text/x-python",
   "name": "python",
   "nbconvert_exporter": "python",
   "pygments_lexer": "ipython3",
   "version": "3.6.7"
  }
 },
 "nbformat": 4,
 "nbformat_minor": 1
}
